{
 "cells": [
  {
   "cell_type": "code",
   "execution_count": null,
   "id": "79d54a61-5387-472b-acb2-cfd926a09ba2",
   "metadata": {},
   "outputs": [],
   "source": [
    "\"\"\"Answer1-->Python was created by Guido van Rossum, and first released on February 20, 1991.\n",
    "           The name of the Python programming language comes from an old BBC television comedy \n",
    "           sketch series called Monty Python's Flying Circus.\"\"\""
   ]
  },
  {
   "cell_type": "code",
   "execution_count": null,
   "id": "6d7f5859-7e83-43d9-ba4d-63665a98faee",
   "metadata": {},
   "outputs": [],
   "source": [
    "\"\"\"Answer2-->Python is a multi-paradigm programming language. Object-oriented programming and \n",
    "         structured programming are fully supported, and many of their features support functional programming\n",
    "         and aspect-oriented programming\"\"\""
   ]
  },
  {
   "cell_type": "code",
   "execution_count": null,
   "id": "23a62b6e-a879-4c24-84ff-03fcc94fa72d",
   "metadata": {},
   "outputs": [],
   "source": [
    "\"\"\"Answer3--> Python is a case sensitive language. It treats upper case and lower case differently.\n",
    "    When we declare a identifier with capital letter then it is treated different in python\n",
    "    than the one with lower case\"\"\""
   ]
  },
  {
   "cell_type": "code",
   "execution_count": null,
   "id": "b4811965-18f6-4748-b064-3e57fe59aeeb",
   "metadata": {},
   "outputs": [],
   "source": [
    "\"\"\" Answer4--> .py is the extension of python.When we give name to our python file then we have\n",
    "             to add .py as a suffix to the name of the file.\"\"\""
   ]
  },
  {
   "cell_type": "code",
   "execution_count": null,
   "id": "330caaf4-b882-488a-bc02-f63f57581e94",
   "metadata": {},
   "outputs": [],
   "source": [
    "\"\"\"Answer5-->Python as a programming language has no saying about if it's an compiled or interpreted \n",
    "programming language, only the implementation of it. The terms interpreted or compiled is not a property\n",
    "of the language but a property of the implementation. Python program runs directly from the source code .\n",
    "so, Python will fall under byte code interpreted. The .py source code is first compiled to byte code as .pyc. \n",
    "This byte code can be interpreted (official CPython), or JIT compiled (PyPy). Python source code (.py) can be \n",
    "compiled to different byte code also like IronPython (.Net) or Jython (JVM). There are multiple implementations \n",
    "of Python language . The official one is a byte code interpreted one. There are byte code JIT compiled \n",
    "implementations too.\n",
    "\n",
    "As concluding remarks, Python(Cpython) is neither a true compiled time nor pure interpreted language\n",
    "but it is called interpreted language.\"\"\""
   ]
  },
  {
   "cell_type": "code",
   "execution_count": null,
   "id": "b06d77e0-0cfe-4ebb-a18a-d98a187df6df",
   "metadata": {},
   "outputs": [],
   "source": [
    "\"\"\"Answer6-->A Python program is constructed from code blocks. A block is a piece of Python program \n",
    "text that is executed as a unit. The following are blocks: a module, a function body, and a class definition.\n",
    "   To indicate a block of code in Python, you must indent each line of the block by the same amount.\n",
    "   The two blocks of code in our example if-statement are both indented four spaces, which is a typical\n",
    "   amount of indentation for Python \"\"\""
   ]
  },
  {
   "cell_type": "code",
   "execution_count": null,
   "id": "817191e3-502b-4a5b-8201-b33c03927a7c",
   "metadata": {},
   "outputs": [],
   "source": [
    "\"\"\"Answer7--> In python # symbol is used to start the comment and it continues until the line ends\"\"\""
   ]
  },
  {
   "cell_type": "code",
   "execution_count": 2,
   "id": "f03c15f8-43f4-40d7-bce9-b8a327f32bc6",
   "metadata": {},
   "outputs": [],
   "source": [
    "#Answer8-->\n",
    "import sys"
   ]
  },
  {
   "cell_type": "code",
   "execution_count": 3,
   "id": "1e8f6379-faca-4c89-9f59-dc963f083b4f",
   "metadata": {},
   "outputs": [
    {
     "data": {
      "text/plain": [
       "'3.10.8 | packaged by conda-forge | (main, Nov 22 2022, 08:26:04) [GCC 10.4.0]'"
      ]
     },
     "execution_count": 3,
     "metadata": {},
     "output_type": "execute_result"
    }
   ],
   "source": [
    "sys.version"
   ]
  },
  {
   "cell_type": "code",
   "execution_count": null,
   "id": "500397f2-7869-4029-9955-ad1e10cf76ef",
   "metadata": {},
   "outputs": [],
   "source": [
    "\"\"\"Answer9-->Python Lambda Functions are anonymous function means that the function is without a name. \n",
    "       We know that the def keyword is used to define a normal function in Python. Similarly, the lambda \n",
    "       keyword is used to define an anonymous function in Python.\"\"\""
   ]
  },
  {
   "cell_type": "code",
   "execution_count": null,
   "id": "d3cf76a3-5207-4bab-9903-5d13b4b426f3",
   "metadata": {},
   "outputs": [],
   "source": [
    "\"\"\"Answer10-->pip stands for Preferred Installer Program.\n",
    "    It is a command-line utility that installs, reinstalls, or uninstalls PyPI packages with one simple\n",
    "    command: pip\"\"\""
   ]
  },
  {
   "cell_type": "code",
   "execution_count": null,
   "id": "755655fb-0fa6-4b00-abf8-fb63243c8eb9",
   "metadata": {},
   "outputs": [],
   "source": [
    "\"\"\"Answer11-->These are some built-in functions in python\n",
    "   print( ) function\n",
    "type( ) function\n",
    "input( ) function\n",
    "abs( ) function\n",
    "pow( ) function\n",
    "dir( ) function\n",
    "sorted( ) function\n",
    "max( ) function\n",
    "round( ) function\n",
    "divmod( ) function\n",
    "id( ) function\n",
    "ord( ) function\n",
    "len( ) function\n",
    "sum( ) function\n",
    "help( ) function\"\"\""
   ]
  },
  {
   "cell_type": "code",
   "execution_count": null,
   "id": "eef7b3cf-9a10-4bb9-83b1-b2ea0ef7a9f4",
   "metadata": {},
   "outputs": [],
   "source": [
    "\"\"\"Answer12--> In python an identifier can have maximum length of 79 characters. \"\"\""
   ]
  },
  {
   "cell_type": "code",
   "execution_count": null,
   "id": "0abaaa1e-e133-4a3b-bb10-ddb6175109ea",
   "metadata": {},
   "outputs": [],
   "source": [
    "\"\"\" Answer13--> Python is the most popular language in today's world. It is widely used in Data Science Web development\n",
    "Finance and trading,System automation and administration,Computer graphics,Basic game development\n",
    "Security and penetration testing,General and application-specific scripting,Mapping and geography (GIS software).\n",
    " So there are plenty of examples where python is used.Python is incredibly easy to learn, regardless of \n",
    " your age or experience level. It is part of the reason I wrote a book about programming in the language\n",
    " for teenagers – it is a great entry into programming software as a whole. Since the language is so simple\n",
    " to read and write in, it also makes a great second or third language to add to your developer resume.\n",
    "\n",
    "Even if a programmer plans on coding in a different language further down the line, Python is a good place\n",
    "to start. You can learn basic programming philosophies and concepts that overlap no matter what language you use.\n",
    "For example, pretty much every programming language uses the concepts of variables, data types, loops and\n",
    "iterations, and control statements like if and else.\"\"\""
   ]
  },
  {
   "cell_type": "code",
   "execution_count": null,
   "id": "da7ee786-2884-461e-b83a-8bf96dcadb1c",
   "metadata": {},
   "outputs": [],
   "source": [
    "\"\"\"Answer14--> Memory in Python is managed by Python private heap space. All Python objects and \n",
    "data structures are located in a private heap. This private heap is taken care of by Python Interpreter\n",
    "itself, and a programmer doesn't have access to this private heap.\"\"\""
   ]
  },
  {
   "cell_type": "code",
   "execution_count": null,
   "id": "a94b810b-8753-4006-a8a9-0d60bb2311ca",
   "metadata": {},
   "outputs": [],
   "source": [
    "\"\"\" Answer15--> To download python go to link--> \"https://www.python.org/downloads/\" and download python. \n",
    "\n",
    "To set path variables below are given informations-->\n",
    "\n",
    "The complete path of python.exe can be added by:\n",
    "\n",
    "Right-clicking This PC and going to Properties.\n",
    "\n",
    "Clicking on the Advanced system settings in the menu on the left.\n",
    "\n",
    "Clicking on the Environment Variables button o​n the bottom right.\n",
    "\n",
    "In the System variables section, selecting the Path variable and clicking on Edit. The next screen will show all the directories that are currently a part of the PATH variable.\n",
    "\n",
    "Clicking on New and entering Python’s install directory.\"\"\""
   ]
  },
  {
   "cell_type": "code",
   "execution_count": null,
   "id": "f247f16a-3bea-4fc9-abc3-51b004c4d7c9",
   "metadata": {},
   "outputs": [],
   "source": [
    "\"\"\" Answer16-->Indentation is mandatory in python if indentation is not given in python program\n",
    "   then it will give indentation error.Indentation is the white space which is given before the \n",
    "   statement in code block.By default the \"\"\""
   ]
  }
 ],
 "metadata": {
  "kernelspec": {
   "display_name": "Python 3 (ipykernel)",
   "language": "python",
   "name": "python3"
  },
  "language_info": {
   "codemirror_mode": {
    "name": "ipython",
    "version": 3
   },
   "file_extension": ".py",
   "mimetype": "text/x-python",
   "name": "python",
   "nbconvert_exporter": "python",
   "pygments_lexer": "ipython3",
   "version": "3.10.8"
  }
 },
 "nbformat": 4,
 "nbformat_minor": 5
}
