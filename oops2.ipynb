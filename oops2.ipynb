{
 "cells": [
  {
   "cell_type": "code",
   "execution_count": 10,
   "id": "6943caa5-40e3-4aad-a7e7-2875aa3df2a5",
   "metadata": {},
   "outputs": [
    {
     "data": {
      "text/plain": [
       "\"Q.1--> Abstraction is the process of hiding background details and showing only\\nthe essential details. Actually Encapsulation also refers to data hiding and this \\nmeaning is also refered by Abstraction so the difference basically in both of them \\nis Abstraction is the process of designing phase of a project which reduce the complexity\\nof the project and Encapsulation is the process in implementation phase of the project where \\naccess to the variables are restricted\\nLet's take an example of mobile phone we know by dialing the number inside dialpad and clicking\\non the call button we can make call but we dont't know how mobile phone is working internally\\nto call the person whose number we have dialed that is abstraction\""
      ]
     },
     "execution_count": 10,
     "metadata": {},
     "output_type": "execute_result"
    }
   ],
   "source": [
    "\"\"\"Q.1--> Abstraction is the process of hiding background details and showing only\n",
    "the essential details. Actually Encapsulation also refers to data hiding and this \n",
    "meaning is also refered by Abstraction so the difference basically in both of them \n",
    "is Abstraction is the process of designing phase of a project which reduce the complexity\n",
    "of the project and Encapsulation is the process in implementation phase of the project where \n",
    "access to the variables are restricted\n",
    "Let's take an example of mobile phone we know by dialing the number inside dialpad and clicking\n",
    "on the call button we can make call but we dont't know how mobile phone is working internally\n",
    "to call the person whose number we have dialed that is abstraction\"\"\""
   ]
  },
  {
   "cell_type": "code",
   "execution_count": 11,
   "id": "561f0a2a-1dce-48d6-835d-7b88f801292b",
   "metadata": {},
   "outputs": [
    {
     "data": {
      "text/plain": [
       "\"Q.2-->Abstraction-->Abstraction is the process of designing phase of the project.Abstraction helps to reduce\\nthe complexity of the code/program.\\nAbstraction solves the problem at design level. We can implement abstraction using abstract \\nclass and interface(in java programming language). Abstraction focuses on what should be done like\\nin abstract class we only declare the abstract method we don't define their body and in the child class\\nwe are focused on what method to be defined.\\n\\nEncapsulation-->Encapsulation is implementation level process.Encapsulation provides privacy by restricting\\nthe variables of the class from being accessed directly.\\nEncapsulation is implemented using access specifiers such private,public and protected.Encapsulation\\nfocuses on how it should be done\\n\\n\""
      ]
     },
     "execution_count": 11,
     "metadata": {},
     "output_type": "execute_result"
    }
   ],
   "source": [
    "\"\"\"Q.2-->Abstraction-->Abstraction is the process of designing phase of the project.Abstraction helps to reduce\n",
    "the complexity of the code/program.\n",
    "Abstraction solves the problem at design level. We can implement abstraction using abstract \n",
    "class and interface(in java programming language). Abstraction focuses on what should be done like\n",
    "in abstract class we only declare the abstract method we don't define their body and in the child class\n",
    "we are focused on what method to be defined.\n",
    "\n",
    "Encapsulation-->Encapsulation is implementation level process.Encapsulation provides privacy by restricting\n",
    "the variables of the class from being accessed directly.\n",
    "Encapsulation is implemented using access specifiers such private,public and protected.Encapsulation\n",
    "focuses on how it should be done\n",
    "\n",
    "\"\"\""
   ]
  },
  {
   "cell_type": "code",
   "execution_count": 12,
   "id": "a399f303-d0db-4dbe-9a06-2e3b1b4c2f86",
   "metadata": {},
   "outputs": [],
   "source": [
    "\"\"\"Q.3-->abc module stands for abstract base class module. It is used in python to provide the base\n",
    "for defining the abstract base class.\n",
    "The abstract base class has a abstract method which is only declared in inside the abstract class\n",
    "not defined, it is defined inside the child class of the abstract class.\n",
    "The abstract method inside the abstract class should be under @abstractmethod and the class which\n",
    "contains abstract method must be abstract.\n",
    "\n",
    "\"\"\"\n",
    "from abc import ABC,abstractmethod\n",
    "\n",
    "class abs_class(ABC):\n",
    "    @abstractmethod\n",
    "    def fun(self):\n",
    "        pass\n",
    "    \n",
    "    \n",
    "class der(abs_class):\n",
    "    def __init__(self):\n",
    "        print(\"Hello i'm in derived class of abstract class\")\n",
    "        \n",
    "    def fun(self):\n",
    "        print(\"This is implementation of abstract class method \")\n",
    "        "
   ]
  },
  {
   "cell_type": "code",
   "execution_count": 4,
   "id": "972c940f-6588-43f4-9a02-485f607749d0",
   "metadata": {},
   "outputs": [
    {
     "name": "stdout",
     "output_type": "stream",
     "text": [
      "Hello i'm in derived class of abstract class\n"
     ]
    }
   ],
   "source": [
    "obj=der()"
   ]
  },
  {
   "cell_type": "code",
   "execution_count": 5,
   "id": "3a642b15-6aeb-4e40-8b3e-470dc4227090",
   "metadata": {},
   "outputs": [
    {
     "name": "stdout",
     "output_type": "stream",
     "text": [
      "This is implementation of abstract class method \n"
     ]
    }
   ],
   "source": [
    "obj.fun()"
   ]
  },
  {
   "cell_type": "code",
   "execution_count": 6,
   "id": "67157bbb-b792-4ca1-a300-0b9837a60597",
   "metadata": {},
   "outputs": [
    {
     "data": {
      "text/plain": [
       "' Q.4-->Data Abstraction can be achieved using abstract class which is defined using the abs module\\nin python. In Data adstraction the class is made abstract and it contains abstract methods which\\nare only declared not implemented, they are implemented inside the derived class of the abstract class \\nwhich inherits the properties of abstract class.\\nThe program above in Q.3 is the implementation of abstract class problem\\n'"
      ]
     },
     "execution_count": 6,
     "metadata": {},
     "output_type": "execute_result"
    }
   ],
   "source": [
    "\"\"\" Q.4-->Data Abstraction can be achieved using abstract class which is defined using the abs module\n",
    "in python. In Data adstraction the class is made abstract and it contains abstract methods which\n",
    "are only declared not implemented, they are implemented inside the derived class of the abstract class \n",
    "which inherits the properties of abstract class.\n",
    "The program above in Q.3 is the implementation of abstract class problem\n",
    "\"\"\""
   ]
  },
  {
   "cell_type": "code",
   "execution_count": 7,
   "id": "3e1cc731-68f3-4dfb-b05f-8f5fa88a5c80",
   "metadata": {},
   "outputs": [
    {
     "data": {
      "text/plain": [
       "\"Q.5--> An instance of an abstract class can't be created. What we can do is we can make a child/derived\\nclass of the abstract class and we can implement the abstract method in the child class and can access\\nthe other methods of the abstract class using the object of the child class because the child class has\\ninherited all the properties of the abstract class. \""
      ]
     },
     "execution_count": 7,
     "metadata": {},
     "output_type": "execute_result"
    }
   ],
   "source": [
    "\"\"\"Q.5--> An instance of an abstract class can't be created. What we can do is we can make a child/derived\n",
    "class of the abstract class and we can implement the abstract method in the child class and can access\n",
    "the other methods of the abstract class using the object of the child class because the child class has\n",
    "inherited all the properties of the abstract class. \"\"\""
   ]
  },
  {
   "cell_type": "code",
   "execution_count": null,
   "id": "df00e9a7-bf7e-4abd-b0ba-0376f778daac",
   "metadata": {},
   "outputs": [],
   "source": []
  }
 ],
 "metadata": {
  "kernelspec": {
   "display_name": "Python 3 (ipykernel)",
   "language": "python",
   "name": "python3"
  },
  "language_info": {
   "codemirror_mode": {
    "name": "ipython",
    "version": 3
   },
   "file_extension": ".py",
   "mimetype": "text/x-python",
   "name": "python",
   "nbconvert_exporter": "python",
   "pygments_lexer": "ipython3",
   "version": "3.10.8"
  }
 },
 "nbformat": 4,
 "nbformat_minor": 5
}
