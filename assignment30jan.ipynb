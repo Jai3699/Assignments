{
 "cells": [
  {
   "cell_type": "code",
   "execution_count": 6,
   "id": "08a70713-a158-4f8a-b5e5-48b93130e841",
   "metadata": {},
   "outputs": [
    {
     "name": "stdin",
     "output_type": "stream",
     "text": [
      "Enter the percentage  -90\n"
     ]
    },
    {
     "name": "stdout",
     "output_type": "stream",
     "text": [
      "D\n"
     ]
    }
   ],
   "source": [
    "## Answer1\n",
    "\n",
    "percent=int(input('Enter the percentage '))\n",
    "\n",
    "if percent>90:\n",
    "    print('A')\n",
    "elif percent>80 and percent<=90:\n",
    "    print('B')\n",
    "elif percent>=60 and percent<=80:\n",
    "    print('C')\n",
    "elif percent<60:\n",
    "    print('D')\n",
    "    \n",
    "    "
   ]
  },
  {
   "cell_type": "code",
   "execution_count": 10,
   "id": "0a4677de-4607-44ca-8ed5-39465fb33e31",
   "metadata": {},
   "outputs": [
    {
     "name": "stdin",
     "output_type": "stream",
     "text": [
      "Enter the cost price of bike 20000\n"
     ]
    },
    {
     "name": "stdout",
     "output_type": "stream",
     "text": [
      "5%\n"
     ]
    }
   ],
   "source": [
    "##Answer2\n",
    "\n",
    "price=int(input('Enter the cost price of bike'))\n",
    "\n",
    "if price>100000:\n",
    "    print('15%')\n",
    "\n",
    "elif price>50000 and price<=100000:\n",
    "    print('10%')\n",
    "elif price<50000:\n",
    "    print('5%')"
   ]
  },
  {
   "cell_type": "code",
   "execution_count": 53,
   "id": "417302e8-0cda-4200-a375-43b67d2ff14d",
   "metadata": {},
   "outputs": [],
   "source": [
    "##Answer3\n",
    "\n",
    "def fun(city):\n",
    "    dict={'Delhi':'Red Fort','Agra':'Taj Mahal','Jaipur':'Jal Mahal'}\n",
    "    print(dict[city])\n",
    "\n"
   ]
  },
  {
   "cell_type": "code",
   "execution_count": 56,
   "id": "605ba90c-69e9-4084-8546-d630675d293a",
   "metadata": {},
   "outputs": [
    {
     "name": "stdin",
     "output_type": "stream",
     "text": [
      "Enter city: Jaipur\n"
     ]
    },
    {
     "name": "stdout",
     "output_type": "stream",
     "text": [
      "Jal Mahal\n"
     ]
    }
   ],
   "source": [
    "city=input('Enter city:')\n",
    "fun(city)\n"
   ]
  },
  {
   "cell_type": "code",
   "execution_count": 63,
   "id": "da0b94da-58c2-41d5-856b-7827718b276c",
   "metadata": {},
   "outputs": [
    {
     "name": "stdin",
     "output_type": "stream",
     "text": [
      "Enter a number 60\n"
     ]
    },
    {
     "name": "stdout",
     "output_type": "stream",
     "text": [
      "The number can be divided 2 times before it is less than or equal to 10\n"
     ]
    }
   ],
   "source": [
    "##Answer4\n",
    "\n",
    "num=int(input('Enter a number'))\n",
    "count=0\n",
    "while True:\n",
    "    if num>10:\n",
    "        num=num/3\n",
    "        count=count+1\n",
    "        continue\n",
    "    else:\n",
    "        break\n",
    "print('The number can be divided {} times before it is less than or equal to 10'.format(count))        \n",
    "    "
   ]
  },
  {
   "cell_type": "code",
   "execution_count": 66,
   "id": "d9150219-588c-4f06-8974-cb9e9d43448e",
   "metadata": {},
   "outputs": [
    {
     "name": "stdin",
     "output_type": "stream",
     "text": [
      "Enter a number 1024\n"
     ]
    },
    {
     "name": "stdout",
     "output_type": "stream",
     "text": [
      "10\n"
     ]
    }
   ],
   "source": [
    "\"\"\"Answer5  The while loop is used to repeat a section of code an unknown number of times until a specific condition is met.\n",
    "For example,We want to know how many times a given number can be divided by 2 before it is less than or equal to 1.\n",
    "In that case we will use while loop because we do not know how many number of times the section of code will be executed.\"\"\"\n",
    "\n",
    "num=int(input('Enter a number'))\n",
    "count=0\n",
    "\n",
    "while num>1:\n",
    "    num=num/2\n",
    "    count=count+1\n",
    "    \n",
    "print(count)    \n",
    "    \n",
    "    \n",
    "    \n",
    "    "
   ]
  },
  {
   "cell_type": "code",
   "execution_count": 87,
   "id": "a26c77fd-fc3f-4bfd-824e-0faf1f34fa71",
   "metadata": {},
   "outputs": [
    {
     "name": "stdin",
     "output_type": "stream",
     "text": [
      "Enter the number of rows 10\n"
     ]
    },
    {
     "name": "stdout",
     "output_type": "stream",
     "text": [
      "* \n",
      "* * \n",
      "* * * \n",
      "* * * * \n",
      "* * * * * \n",
      "* * * * * * \n",
      "* * * * * * * \n",
      "* * * * * * * * \n",
      "* * * * * * * * * \n",
      "* * * * * * * * * * \n"
     ]
    }
   ],
   "source": [
    "##Answer\n",
    "num=int(input('Enter the number of rows'))\n",
    "\n",
    "i=1\n",
    "while i<=num:\n",
    "    j=1\n",
    "    while(j<=i):\n",
    "        print(\"*\",end=\" \")\n",
    "        j=j+1\n",
    "    print()    \n",
    "    i=i+1    "
   ]
  },
  {
   "cell_type": "code",
   "execution_count": 88,
   "id": "949624b6-120c-49cd-bec1-843b71720a0c",
   "metadata": {},
   "outputs": [
    {
     "name": "stdin",
     "output_type": "stream",
     "text": [
      "Enter number of row 10\n"
     ]
    },
    {
     "name": "stdout",
     "output_type": "stream",
     "text": [
      "* * * * * * * * * * \n",
      "* * * * * * * * * \n",
      "* * * * * * * * \n",
      "* * * * * * * \n",
      "* * * * * * \n",
      "* * * * * \n",
      "* * * * \n",
      "* * * \n",
      "* * \n",
      "* \n"
     ]
    }
   ],
   "source": [
    "num=int(input(\"Enter number of row\"))\n",
    "i=1\n",
    "while i<=num:\n",
    "    j=num\n",
    "    while j>=i:\n",
    "        print(\"*\",end=\" \")\n",
    "        j=j-1\n",
    "    print()\n",
    "    i=i+1"
   ]
  },
  {
   "cell_type": "code",
   "execution_count": 90,
   "id": "1657cf0d-82dc-49f6-b3f6-1710e7c8a730",
   "metadata": {},
   "outputs": [
    {
     "name": "stdout",
     "output_type": "stream",
     "text": [
      "1 \n",
      "1 2 \n",
      "1 2 3 \n",
      "1 2 3 4 \n",
      "1 2 3 4 5 \n",
      "1 2 3 4 5 6 \n",
      "1 2 3 4 5 6 7 \n",
      "1 2 3 4 5 6 7 8 \n",
      "1 2 3 4 5 6 7 8 9 \n",
      "1 2 3 4 5 6 7 8 9 10 \n"
     ]
    }
   ],
   "source": [
    "i=1\n",
    "while i<=10:\n",
    "    j=1\n",
    "    while j<=i:\n",
    "        print(j,end=\" \")\n",
    "        j=j+1\n",
    "    print(\"\")\n",
    "    i=i+1"
   ]
  },
  {
   "cell_type": "code",
   "execution_count": 92,
   "id": "cab44f72-c0b9-42c5-87af-61cfd5c00b0e",
   "metadata": {},
   "outputs": [
    {
     "name": "stdout",
     "output_type": "stream",
     "text": [
      "10\n",
      "9\n",
      "8\n",
      "7\n",
      "6\n",
      "5\n",
      "4\n",
      "3\n",
      "2\n",
      "1\n"
     ]
    }
   ],
   "source": [
    "##Answer7\n",
    "num=10\n",
    "\n",
    "while num>=1:\n",
    "    print(num)\n",
    "    num=num-1\n",
    "    "
   ]
  },
  {
   "cell_type": "code",
   "execution_count": 93,
   "id": "596857f3-5b9c-4ba3-9605-428077b7278e",
   "metadata": {},
   "outputs": [
    {
     "name": "stdout",
     "output_type": "stream",
     "text": [
      "10\n",
      "9\n",
      "8\n",
      "7\n",
      "6\n",
      "5\n",
      "4\n",
      "3\n",
      "2\n",
      "1\n"
     ]
    }
   ],
   "source": [
    "##Answer8\n",
    "num=10\n",
    "\n",
    "while num>=1:\n",
    "    print(num)\n",
    "    num=num-1\n",
    "    "
   ]
  },
  {
   "cell_type": "code",
   "execution_count": null,
   "id": "d296c598-6c70-4e5a-8625-25fd1c66b8ef",
   "metadata": {},
   "outputs": [],
   "source": []
  }
 ],
 "metadata": {
  "kernelspec": {
   "display_name": "Python 3 (ipykernel)",
   "language": "python",
   "name": "python3"
  },
  "language_info": {
   "codemirror_mode": {
    "name": "ipython",
    "version": 3
   },
   "file_extension": ".py",
   "mimetype": "text/x-python",
   "name": "python",
   "nbconvert_exporter": "python",
   "pygments_lexer": "ipython3",
   "version": "3.10.8"
  }
 },
 "nbformat": 4,
 "nbformat_minor": 5
}
