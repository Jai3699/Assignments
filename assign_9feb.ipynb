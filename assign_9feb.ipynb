{
 "cells": [
  {
   "cell_type": "code",
   "execution_count": 218,
   "id": "e85ae1d0-0452-4e8f-b787-55a355087b59",
   "metadata": {},
   "outputs": [],
   "source": [
    "\"\"\"Q1, Create a vehicle class with an init method having instance variables as name_of_vehicle, max_speed\n",
    "and average_of_vehicle.\"\"\"\n",
    "\n",
    "class vehicle:\n",
    "    def __init__(self,name,speed,average):\n",
    "        self.name_of_vehicle=name\n",
    "        self.max_speed=speed\n",
    "        self.average_of_vehicle=average\n",
    "        \n",
    "        "
   ]
  },
  {
   "cell_type": "code",
   "execution_count": 219,
   "id": "10fb9abd-84bf-423d-bba6-a0345f8a7293",
   "metadata": {},
   "outputs": [],
   "source": [
    "\n",
    "vec=vehicle('mustang',250,14)"
   ]
  },
  {
   "cell_type": "code",
   "execution_count": 220,
   "id": "3b465972-21eb-462a-a3c4-22bb0a68bd37",
   "metadata": {},
   "outputs": [
    {
     "data": {
      "text/plain": [
       "'mustang'"
      ]
     },
     "execution_count": 220,
     "metadata": {},
     "output_type": "execute_result"
    }
   ],
   "source": [
    "vec.name_of_vehicle"
   ]
  },
  {
   "cell_type": "code",
   "execution_count": 221,
   "id": "f08b2740-2325-45c3-b071-133e5f03ace9",
   "metadata": {},
   "outputs": [
    {
     "data": {
      "text/plain": [
       "14"
      ]
     },
     "execution_count": 221,
     "metadata": {},
     "output_type": "execute_result"
    }
   ],
   "source": [
    "vec.average_of_vehicle"
   ]
  },
  {
   "cell_type": "code",
   "execution_count": 222,
   "id": "d7f8badb-fb84-4c5e-8190-bc90f9fbbfce",
   "metadata": {},
   "outputs": [
    {
     "data": {
      "text/plain": [
       "250"
      ]
     },
     "execution_count": 222,
     "metadata": {},
     "output_type": "execute_result"
    }
   ],
   "source": [
    "vec.max_speed"
   ]
  },
  {
   "cell_type": "code",
   "execution_count": 223,
   "id": "c7df08cf-84d9-4e2d-9243-dd66f5410b97",
   "metadata": {},
   "outputs": [],
   "source": [
    "\"\"\" Q2. Create a child class car from the vehicle class created in Que 1, which will inherit the vehicle class.\n",
    "Create a method named seating_capacity which takes capacity as an argument and returns the name of\n",
    "the vehicle and its seating capacity.\n",
    "\"\"\"\n",
    "\n",
    "class vehicle:\n",
    "    def __init__(self,name,speed,average):\n",
    "        self.name_of_vehicle=name\n",
    "        self.max_speed=speed\n",
    "        self.average_of_vehicle=average\n",
    "        \n",
    "        \n",
    "class car(vehicle):\n",
    "    def seating_capacity(self,capacity):\n",
    "        self.capacity=capacity\n",
    "        return self.name_of_vehicle,self.capacity"
   ]
  },
  {
   "cell_type": "code",
   "execution_count": 224,
   "id": "bdbff063-5834-46cc-a69e-37d3846bd647",
   "metadata": {},
   "outputs": [],
   "source": [
    "car_obj=car('mustang',250,14)"
   ]
  },
  {
   "cell_type": "code",
   "execution_count": 225,
   "id": "bfae8aae-4e19-4ec4-bb62-ab8bbb9d688f",
   "metadata": {},
   "outputs": [
    {
     "data": {
      "text/plain": [
       "('mustang', 2)"
      ]
     },
     "execution_count": 225,
     "metadata": {},
     "output_type": "execute_result"
    }
   ],
   "source": [
    "car_obj.seating_capacity(2)"
   ]
  },
  {
   "cell_type": "code",
   "execution_count": null,
   "id": "37a1bcdb-d58b-45de-9ada-1008592499ff",
   "metadata": {},
   "outputs": [],
   "source": []
  },
  {
   "cell_type": "code",
   "execution_count": 226,
   "id": "f487a955-f9c8-4b08-99d2-e8a04275a7c8",
   "metadata": {},
   "outputs": [],
   "source": [
    "\"\"\"Q3. What is multiple inheritance? Write a python code to demonstrate multiple inheritance.\n",
    "   Answer--> When a child class inherits two parent class then this process of inheritance is \n",
    "   known as multiple inheritance.In multiple inheritance a single child class inherit the properties\n",
    "   of two different parent classes.\"\"\"\n",
    "\n",
    "class animals:\n",
    "    def fun1(self):\n",
    "        print('Animals are less intelligent')\n",
    "        \n",
    "class humans:\n",
    "    def fun2(self):\n",
    "         print('humans are very intelligent')\n",
    "            \n",
    "class living_things(animals,humans):\n",
    "    def fun3(self):\n",
    "        print('this is living_things class')\n",
    "        \n",
    "        \n",
    "       "
   ]
  },
  {
   "cell_type": "code",
   "execution_count": 227,
   "id": "d7deedda-787f-45fc-b9ab-b74f54e548af",
   "metadata": {},
   "outputs": [],
   "source": [
    "obj=living_things()"
   ]
  },
  {
   "cell_type": "code",
   "execution_count": 228,
   "id": "41180a6a-a8d1-4a83-ae8f-ba395aa15ba2",
   "metadata": {},
   "outputs": [
    {
     "name": "stdout",
     "output_type": "stream",
     "text": [
      "Animals are less intelligent\n"
     ]
    }
   ],
   "source": [
    "obj.fun1()"
   ]
  },
  {
   "cell_type": "code",
   "execution_count": 229,
   "id": "5e43adc4-cbf5-4545-817e-f0f1f657bc0f",
   "metadata": {},
   "outputs": [
    {
     "name": "stdout",
     "output_type": "stream",
     "text": [
      "humans are very intelligent\n"
     ]
    }
   ],
   "source": [
    "obj.fun2()"
   ]
  },
  {
   "cell_type": "code",
   "execution_count": 230,
   "id": "81b7caff-141b-4293-858b-0b6c0732ef07",
   "metadata": {},
   "outputs": [
    {
     "name": "stdout",
     "output_type": "stream",
     "text": [
      "this is living_things class\n"
     ]
    }
   ],
   "source": [
    "obj.fun3()"
   ]
  },
  {
   "cell_type": "code",
   "execution_count": null,
   "id": "0182a2fc-717a-44f4-949b-818a9097a912",
   "metadata": {},
   "outputs": [],
   "source": []
  },
  {
   "cell_type": "code",
   "execution_count": null,
   "id": "603b5e2a-21f9-4e87-b69f-b968a4088aac",
   "metadata": {},
   "outputs": [],
   "source": [
    "\"\"\"Q4. What are getter and setter in python? Create a class and create a getter and a setter method in this\n",
    "class.\n",
    "  Answer-->Getters and setters in Python are different from those in other OOPs languages. The primary use \n",
    "  of getters and setters is to ensure data encapsulation in object-oriented programs. In contrast to other \n",
    "  object-oriented languages, private variables in Python are not hidden fields. Some OOPs languages use \n",
    "  getters and setter's methods for data encapsulation. We want to conceal an object class's attributes \n",
    "  from other classes so that methods in other classes don't accidentally modify data.\n",
    "  \n",
    "  Getter-->Getters are the methods that are used in Object-Oriented Programming (OOPS) to access a class's\n",
    "  private attributes.\n",
    "  \n",
    "  Setter-->The setter is a method that is used to set the property's value. It is very useful in object-oriented\n",
    "  programming to set the value of private attributes in a class.\n",
    "\"\"\""
   ]
  },
  {
   "cell_type": "code",
   "execution_count": 192,
   "id": "bbc5a850-5df2-4faf-8e4d-ad255ca2a6e3",
   "metadata": {},
   "outputs": [],
   "source": [
    "class getter_setter:\n",
    "    def set_details(self,name,age):\n",
    "        self.__name=name\n",
    "        self.__age=age\n",
    "        \n",
    "    def get_details(self): \n",
    "        print('name=',self.__name,'age=',self.age)\n",
    "        "
   ]
  },
  {
   "cell_type": "code",
   "execution_count": 191,
   "id": "bee2c988-46d4-4c85-9ffe-f81c61b22342",
   "metadata": {},
   "outputs": [],
   "source": [
    "obj=getter_setter()"
   ]
  },
  {
   "cell_type": "code",
   "execution_count": 193,
   "id": "ee2e4e9b-138a-45a1-a733-ae7e92abedc3",
   "metadata": {},
   "outputs": [],
   "source": [
    "obj.set_details('jai',21)"
   ]
  },
  {
   "cell_type": "code",
   "execution_count": 194,
   "id": "bb614951-79d0-4899-8fc2-95fa71d7f939",
   "metadata": {},
   "outputs": [
    {
     "name": "stdout",
     "output_type": "stream",
     "text": [
      "name= jai age= 21\n"
     ]
    }
   ],
   "source": [
    "obj.get_details()"
   ]
  },
  {
   "cell_type": "code",
   "execution_count": 214,
   "id": "9bd1849e-fcaa-45e2-8570-6b9e5dbe711d",
   "metadata": {},
   "outputs": [],
   "source": [
    "\"\"\"Q5.What is method overriding in python? Write a python code to demonstrate method overriding.\n",
    "    Answer-->When the child class has same method defined as in the parent class then the method \n",
    "    in child class is said to override the method of parent class.The method in child class has\n",
    "    same name,same signature and equal number of parameters.\n",
    "\"\"\"\n",
    "class car1:\n",
    "    def max_speed(self):\n",
    "        print('this is max_speed of class car1')\n",
    "    def driving(self):\n",
    "        print('heyy im driving car1')\n",
    "class car2(car1):\n",
    "    def __init__(self):\n",
    "        print('constructor of class car2')\n",
    "        \n",
    "    def max_speed(self):\n",
    "        print('this is max_speed of class car2')\n",
    "        \n",
    "        "
   ]
  },
  {
   "cell_type": "code",
   "execution_count": 215,
   "id": "2a329a2c-727f-435e-b6ca-8a3d768d62a0",
   "metadata": {},
   "outputs": [
    {
     "name": "stdout",
     "output_type": "stream",
     "text": [
      "constructor of class car2\n"
     ]
    }
   ],
   "source": [
    "car=car2()"
   ]
  },
  {
   "cell_type": "code",
   "execution_count": 216,
   "id": "e4c054ce-bff5-4c0f-a59f-a2b23dc71f0f",
   "metadata": {},
   "outputs": [
    {
     "name": "stdout",
     "output_type": "stream",
     "text": [
      "this is max_speed of class car2\n"
     ]
    }
   ],
   "source": [
    "car.max_speed()"
   ]
  },
  {
   "cell_type": "code",
   "execution_count": 217,
   "id": "03fed22c-aaf4-481b-8d59-ce6a7accd01c",
   "metadata": {},
   "outputs": [
    {
     "name": "stdout",
     "output_type": "stream",
     "text": [
      "heyy im driving car1\n"
     ]
    }
   ],
   "source": [
    "car.driving()"
   ]
  },
  {
   "cell_type": "code",
   "execution_count": null,
   "id": "4b6a24f2-e4bc-4963-82ea-2156ec5e8630",
   "metadata": {},
   "outputs": [],
   "source": []
  },
  {
   "cell_type": "code",
   "execution_count": null,
   "id": "07d7bc60-13c6-461c-b306-7e073edadb55",
   "metadata": {},
   "outputs": [],
   "source": []
  }
 ],
 "metadata": {
  "kernelspec": {
   "display_name": "Python 3 (ipykernel)",
   "language": "python",
   "name": "python3"
  },
  "language_info": {
   "codemirror_mode": {
    "name": "ipython",
    "version": 3
   },
   "file_extension": ".py",
   "mimetype": "text/x-python",
   "name": "python",
   "nbconvert_exporter": "python",
   "pygments_lexer": "ipython3",
   "version": "3.9.7"
  }
 },
 "nbformat": 4,
 "nbformat_minor": 5
}
