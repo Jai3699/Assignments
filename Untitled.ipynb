{
 "cells": [
  {
   "cell_type": "code",
   "execution_count": 39,
   "id": "0219304e-465a-4cdd-b2b0-05154d860936",
   "metadata": {},
   "outputs": [],
   "source": [
    "\"\"\"Q1. Create a function which will take a list as an argument and return the product of all the numbers\n",
    "after creating a flat list.Use the below-given list as an argument for your function.\"\"\"\n",
    "\n",
    "\n",
    "list1 = [1,2,3,4, [44,55,66, True], False, (34,56,78,89,34), {1,2,3,3,2,1},\n",
    "     {1:34, \"key2\": [55, 67, 78, 89], 4: (45,22, 61, 34)}, [56, 'data science'], 'Machine Learning']"
   ]
  },
  {
   "cell_type": "code",
   "execution_count": 40,
   "id": "a6dccab7-aa48-4fc3-891c-e09cbdec13f9",
   "metadata": {},
   "outputs": [],
   "source": [
    "l1=[]\n",
    "def fun(list1):\n",
    "    \n",
    "    for i in range(len(list1)):\n",
    "            if type(list1[i])==int:\n",
    "                 l1.append(list1[i])\n",
    "                    \n",
    "       \n",
    "            elif (type(list1[i])==list or type(list1[i])==tuple or type(list1[i])==set):\n",
    "            \n",
    "                 for j in list1[i]:\n",
    "                    \n",
    "                   if type(j)==int:\n",
    "                    l1.append(j)\n",
    "                   elif type(j)==list:\n",
    "                    fun(j)\n",
    "                   \n",
    "                \n",
    "                   elif type(j)==tuple:\n",
    "                        fun(j)\n",
    "                   else:\n",
    "                    continue\n",
    "                            \n",
    "                    \n",
    "            elif type(list1[i])==dict:\n",
    "                           \n",
    "                x=list(list1[i].items())\n",
    "                fun(x)\n",
    "                    \n",
    "           \n",
    "                    \n",
    "                \n",
    "                \n",
    "    result=1\n",
    "    for value in l1:\n",
    "        result*=value\n",
    "  \n",
    "    return result    \n",
    "        \n",
    "\n",
    "        \n",
    "\n",
    "        \n",
    "        \n",
    "    \n",
    "    \n",
    "    "
   ]
  },
  {
   "cell_type": "code",
   "execution_count": 41,
   "id": "ace281d9-8ca7-4a87-a54b-e033cd7e48cd",
   "metadata": {},
   "outputs": [
    {
     "data": {
      "text/plain": [
       "4134711838987085478833841242112000"
      ]
     },
     "execution_count": 41,
     "metadata": {},
     "output_type": "execute_result"
    }
   ],
   "source": [
    "fun(list1)"
   ]
  },
  {
   "cell_type": "code",
   "execution_count": null,
   "id": "622ea988-d5bf-4f26-8767-bcfbcf2d1ec9",
   "metadata": {},
   "outputs": [],
   "source": []
  },
  {
   "cell_type": "code",
   "execution_count": 45,
   "id": "fa6e1c78-a34b-4dbc-ae1f-74ff9dad5297",
   "metadata": {},
   "outputs": [
    {
     "data": {
      "text/plain": [
       "'Q2. Write a python program for encrypting a message sent to you by your friend. The logic of encryption\\nshould be such that, for a the output should be z. For b, the output should be y. For c, the output should\\nbe x respectively. Also, the whitespace should be replaced with a dollar sign. Keep the punctuation\\nmarks unchanged.\\nInput Sentence: I want to become a Data Scientist.\\nEncrypt the above input sentence using the program you just created.\\nNote: Convert the given input sentence into lowercase before encrypting. The final output should be\\nlowercase.'"
      ]
     },
     "execution_count": 45,
     "metadata": {},
     "output_type": "execute_result"
    }
   ],
   "source": [
    "\"\"\"Q2. Write a python program for encrypting a message sent to you by your friend. The logic of encryption\n",
    "should be such that, for a the output should be z. For b, the output should be y. For c, the output should\n",
    "be x respectively. Also, the whitespace should be replaced with a dollar sign. Keep the punctuation\n",
    "marks unchanged.\n",
    "Input Sentence: I want to become a Data Scientist.\n",
    "Encrypt the above input sentence using the program you just created.\n",
    "Note: Convert the given input sentence into lowercase before encrypting. The final output should be\n",
    "lowercase.\"\"\""
   ]
  },
  {
   "cell_type": "code",
   "execution_count": 46,
   "id": "3d790f35-c2b2-42c3-8dd9-b75a09d34367",
   "metadata": {},
   "outputs": [],
   "source": [
    "## Answer2\n",
    "def encrypt(inp_str):\n",
    "    str=inp_str.lower()\n",
    "    encrypt_string=''\n",
    "    l1=list(range(ord('a'),ord('z')+1))\n",
    "    l2=list(range(ord('z'),ord('a')-1,-1))\n",
    "    for i in str:\n",
    "        if ord(i)==ord(' '):\n",
    "            encrypt_string+='$'\n",
    "        else:\n",
    "              for x in range(len(l1)):\n",
    "                     if l1[x]==ord(i):\n",
    "                            encrypt_string+=chr(l2[x])\n",
    "    return encrypt_string                        \n",
    "           \n",
    "                \n",
    "      "
   ]
  },
  {
   "cell_type": "code",
   "execution_count": 47,
   "id": "2f90fe1f-056c-423a-86e8-205415b28cf9",
   "metadata": {},
   "outputs": [],
   "source": [
    "str='I want to become a Data Scientist'"
   ]
  },
  {
   "cell_type": "code",
   "execution_count": 48,
   "id": "c1e3a202-9666-4684-80b7-f2350ddea1a4",
   "metadata": {},
   "outputs": [
    {
     "data": {
      "text/plain": [
       "'r$dzmg$gl$yvxlnv$z$wzgz$hxrvmgrhg'"
      ]
     },
     "execution_count": 48,
     "metadata": {},
     "output_type": "execute_result"
    }
   ],
   "source": [
    "encrypt(str)"
   ]
  },
  {
   "cell_type": "code",
   "execution_count": null,
   "id": "4250adab-6b8b-4562-9f4f-85dfb0259206",
   "metadata": {},
   "outputs": [],
   "source": []
  },
  {
   "cell_type": "code",
   "execution_count": null,
   "id": "03b72ea1-e413-4805-bc98-da7b70be0605",
   "metadata": {},
   "outputs": [],
   "source": []
  },
  {
   "cell_type": "code",
   "execution_count": null,
   "id": "65a2f542-59b7-4579-9b65-696d03172a8f",
   "metadata": {},
   "outputs": [],
   "source": []
  },
  {
   "cell_type": "code",
   "execution_count": null,
   "id": "71db3c79-9db1-40c8-8326-68dfbd47a967",
   "metadata": {},
   "outputs": [],
   "source": []
  },
  {
   "cell_type": "code",
   "execution_count": null,
   "id": "f14cb226-07f7-45d5-84bc-d77ac05c834e",
   "metadata": {},
   "outputs": [],
   "source": []
  },
  {
   "cell_type": "code",
   "execution_count": null,
   "id": "4ab17190-009d-420e-9276-ee548c4cd2e5",
   "metadata": {},
   "outputs": [],
   "source": []
  },
  {
   "cell_type": "code",
   "execution_count": null,
   "id": "c4f0a13e-d3af-4bed-8baf-a06a6576846c",
   "metadata": {},
   "outputs": [],
   "source": []
  }
 ],
 "metadata": {
  "kernelspec": {
   "display_name": "Python 3 (ipykernel)",
   "language": "python",
   "name": "python3"
  },
  "language_info": {
   "codemirror_mode": {
    "name": "ipython",
    "version": 3
   },
   "file_extension": ".py",
   "mimetype": "text/x-python",
   "name": "python",
   "nbconvert_exporter": "python",
   "pygments_lexer": "ipython3",
   "version": "3.10.8"
  }
 },
 "nbformat": 4,
 "nbformat_minor": 5
}
