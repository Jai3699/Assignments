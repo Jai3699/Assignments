{
 "cells": [
  {
   "cell_type": "code",
   "execution_count": null,
   "id": "f5046f13-157b-46a0-a529-4e709bbc56f6",
   "metadata": {},
   "outputs": [],
   "source": [
    "\"\"\" Answer-->1 An exception is an event, which occurs during the execution of a program that disrupts the normal \n",
    "flow of the program's instructions.When our python program comes across a situation which it can't handle then it \n",
    "raises exceptions.An object in python that describes an error is called exception.\n",
    "\n",
    "Syntax error is an error which occured due to the error in the syntax like not closing the bracket or not adding colon after if \n",
    "statement this type of error are syntax error.The syntax error exception occurs when the code does not conform to Python\n",
    "keywords, naming style, or programming structure. The interpreter sees the invalid syntax during its parsing phase and\n",
    "raises a SyntaxError exception. The program stops and fails at the point where the syntax error happened.\n",
    "But in case of exceptions the code is completely correct but it leads to a situation which can't be handeled by the\n",
    "python to execute it like zerdivisonerror in this case when we divide a number with zero then python can't produce\n",
    "its result so it will give exception zerodivisonerror\n",
    "\"\"\""
   ]
  },
  {
   "cell_type": "code",
   "execution_count": 9,
   "id": "7839db9e-80b8-4ce0-b993-d3d7335392f7",
   "metadata": {},
   "outputs": [],
   "source": [
    "\"\"\" Answer2-->When an exception occurs and if it is not handled then the program terminates abruptly and the code\n",
    "which is written after the line which caused exception will not get executed.\"\"\"\n",
    "\n",
    "\n",
    "def fun(num):\n",
    "    num/0\n",
    "    print('divison is successful')"
   ]
  },
  {
   "cell_type": "code",
   "execution_count": 10,
   "id": "2da7450a-cad0-4571-98cd-5081605f8ef9",
   "metadata": {},
   "outputs": [
    {
     "ename": "ZeroDivisionError",
     "evalue": "division by zero",
     "output_type": "error",
     "traceback": [
      "\u001b[0;31m---------------------------------------------------------------------------\u001b[0m",
      "\u001b[0;31mZeroDivisionError\u001b[0m                         Traceback (most recent call last)",
      "Cell \u001b[0;32mIn[10], line 1\u001b[0m\n\u001b[0;32m----> 1\u001b[0m \u001b[43mfun\u001b[49m\u001b[43m(\u001b[49m\u001b[38;5;241;43m4\u001b[39;49m\u001b[43m)\u001b[49m\n",
      "Cell \u001b[0;32mIn[9], line 6\u001b[0m, in \u001b[0;36mfun\u001b[0;34m(num)\u001b[0m\n\u001b[1;32m      5\u001b[0m \u001b[38;5;28;01mdef\u001b[39;00m \u001b[38;5;21mfun\u001b[39m(num):\n\u001b[0;32m----> 6\u001b[0m     \u001b[43mnum\u001b[49m\u001b[38;5;241;43m/\u001b[39;49m\u001b[38;5;241;43m0\u001b[39;49m\n\u001b[1;32m      7\u001b[0m     \u001b[38;5;28mprint\u001b[39m(\u001b[38;5;124m'\u001b[39m\u001b[38;5;124mdivison is successful\u001b[39m\u001b[38;5;124m'\u001b[39m)\n",
      "\u001b[0;31mZeroDivisionError\u001b[0m: division by zero"
     ]
    }
   ],
   "source": [
    "fun(4)"
   ]
  },
  {
   "cell_type": "code",
   "execution_count": 11,
   "id": "91ee8cc0-e2c1-4c57-a6fb-a6957cc01dec",
   "metadata": {},
   "outputs": [],
   "source": [
    "## we can see in the above code that the print function is not invoked"
   ]
  },
  {
   "cell_type": "code",
   "execution_count": 1,
   "id": "238367b8-764e-4888-bf9a-56aa39333aa8",
   "metadata": {},
   "outputs": [],
   "source": [
    "\"\"\"Answer3-->In exception handling the code which is suspicious and which can create exception are placed inside try block.\n",
    "and the to handle the suspicious code or we can say to handle the exception we place the code of instructions in except block.\n",
    "The code which is written in except block handles the exception if there was an exception in the try block statement.\"\"\"\n",
    "\n",
    "import logging\n",
    "logging.basicConfig(filename='excpt.log',level=logging.INFO)\n",
    "\n",
    "try:\n",
    "    3/0\n",
    "except ZeroDivisionError as e:\n",
    "    logging.error('I have found error {}'.format(e))\n",
    "    "
   ]
  },
  {
   "cell_type": "code",
   "execution_count": 2,
   "id": "e3523eee-d141-4c87-a60a-f05a09c01a4d",
   "metadata": {},
   "outputs": [],
   "source": [
    "\"\"\" Answer4-->try block in exception handling is a block of code which contains the code which is suspicious that is which \n",
    "can cause exception and can disrupt the normal flow of the program.\n",
    "\n",
    "else block is that block which is executed only when the try block is successfully executed,if try block is not executed that \n",
    "there was an execption in try block then then in that case the else block will not get executed.\"\"\"\n",
    "\n",
    "try:\n",
    "    a=10\n",
    "    a/2\n",
    "except Exception as e:\n",
    "    logging.error('i have found an error')\n",
    "\n",
    "else:\n",
    "    logging.info('no error found')\n"
   ]
  },
  {
   "cell_type": "code",
   "execution_count": 3,
   "id": "02205280-989a-4092-87c8-b2875d4f5124",
   "metadata": {},
   "outputs": [],
   "source": [
    "\"\"\"finally is the block is will always get executed after try and catch. The code of instruction which is present\n",
    "in finally will get executed after the try and catch get executed\"\"\"\n",
    "\n",
    "try:\n",
    "    a=16\n",
    "    a/0\n",
    "except ZeroDivisionError as e:\n",
    "    logging.error('I have handeled an error {}'.format(e))\n",
    "    \n",
    "finally:\n",
    "    logging.info('finally is executed')"
   ]
  },
  {
   "cell_type": "code",
   "execution_count": 10,
   "id": "826da865-37db-4597-91ce-ddf7d61c5238",
   "metadata": {},
   "outputs": [
    {
     "name": "stdout",
     "output_type": "stream",
     "text": [
      "This is my custom exception\n"
     ]
    }
   ],
   "source": [
    "\"\"\" raise is used to raise an exception when we are making our custom exception.\n",
    "    with the help of raise keyword we raise an exception in the exception class which\n",
    "    we have created.\"\"\"\n",
    "class CustomException(Exception):\n",
    "    \"\"\" my custom exception class \"\"\"\n",
    "\n",
    "\n",
    "try:\n",
    "    raise CustomException('This is my custom exception')\n",
    "except CustomException as e:\n",
    "    print(e)"
   ]
  },
  {
   "cell_type": "code",
   "execution_count": 13,
   "id": "528440fe-5a3d-4e43-9f1f-d2e5eaa06d34",
   "metadata": {},
   "outputs": [
    {
     "name": "stdin",
     "output_type": "stream",
     "text": [
      "enter num -34\n"
     ]
    },
    {
     "name": "stdout",
     "output_type": "stream",
     "text": [
      "This is my custom exception\n"
     ]
    }
   ],
   "source": [
    "class CustomException(Exception):\n",
    "    \n",
    "    \"\"\" my custom exception class \"\"\"\n",
    "\n",
    "\n",
    "try:\n",
    "    num=int(input('enter num'))\n",
    "    if num<0:\n",
    "        raise CustomException('This is my custom exception')\n",
    "    \n",
    "    \n",
    "except CustomException as ex:\n",
    "    print(ex)"
   ]
  },
  {
   "cell_type": "code",
   "execution_count": null,
   "id": "34da6351-0fc8-489d-a0c9-01e118de5573",
   "metadata": {},
   "outputs": [],
   "source": [
    "\"\"\" Answer5--> Custom exceptions are the exception which are user defined exceptions. There are certain exceptions\n",
    "which so obvious in common understanding and for that exception should  be made by the programmer like age of a person\n",
    "can not be negative,if the age entered by the user is negative then it the program should give him/her an invalid age\n",
    "message that the age entered is not a correct age. \n",
    "There can be so many examples in daily programming like when we are depositing amount in bank account then the amount can \n",
    "never be less than zero if the amount is less than zero then it shoould show show an error that the amount entered is invalid.\"\"\"\n"
   ]
  },
  {
   "cell_type": "code",
   "execution_count": 15,
   "id": "9cc18f63-5731-477c-8c44-0cdac39a729d",
   "metadata": {},
   "outputs": [],
   "source": [
    "## Anser6--> Creating an custom exception class to handle that the age is invalid\n",
    "\n",
    "class cust_Exception(Exception):\n",
    "    \"\"\"this is my custom exception class\"\"\"\n",
    "    \n",
    "def cus_method(age):\n",
    "    if age<0:\n",
    "        raise cust_Exception('entered age is invalid please enter valid age')\n",
    "        \n",
    "    elif age>150:\n",
    "        raise cust_Exception('entered age seems too high not possible please check the age carefully')\n",
    "        \n",
    "    else:\n",
    "        print('age entered is correct')"
   ]
  },
  {
   "cell_type": "code",
   "execution_count": 19,
   "id": "584d12b5-61a7-4535-b64e-047059e3d939",
   "metadata": {},
   "outputs": [
    {
     "name": "stdin",
     "output_type": "stream",
     "text": [
      "enter the age -50\n"
     ]
    },
    {
     "name": "stdout",
     "output_type": "stream",
     "text": [
      "error entered age is invalid please enter valid age\n"
     ]
    }
   ],
   "source": [
    "try:\n",
    "    age=int(input('enter the age'))\n",
    "    cus_method(age)\n",
    "    \n",
    "except cust_Exception as e:\n",
    "    print('error',e)\n",
    "    "
   ]
  },
  {
   "cell_type": "code",
   "execution_count": null,
   "id": "6428919d-b242-48c9-a2b2-e23563b57916",
   "metadata": {},
   "outputs": [],
   "source": []
  }
 ],
 "metadata": {
  "kernelspec": {
   "display_name": "Python 3 (ipykernel)",
   "language": "python",
   "name": "python3"
  },
  "language_info": {
   "codemirror_mode": {
    "name": "ipython",
    "version": 3
   },
   "file_extension": ".py",
   "mimetype": "text/x-python",
   "name": "python",
   "nbconvert_exporter": "python",
   "pygments_lexer": "ipython3",
   "version": "3.10.8"
  }
 },
 "nbformat": 4,
 "nbformat_minor": 5
}
