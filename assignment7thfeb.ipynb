{
 "cells": [
  {
   "cell_type": "code",
   "execution_count": 2,
   "id": "8f8dcda2-e3dd-4716-bddb-02f3d28c37e5",
   "metadata": {},
   "outputs": [],
   "source": [
    "\"\"\"Q1. You are writing code for a company. The requirement of the company is that you create a python\n",
    "function that will check whether the password entered by the user is correct or not. The function should\n",
    "take the password as input and return the string “Valid Password” if the entered password follows the\n",
    "below-given password guidelines else it should return “Invalid Password”.\n",
    "Note: 1. The Password should contain at least two uppercase letters and at least two lowercase letters.\n",
    "2. The Password should contain at least a number and three special characters.\n",
    "3. The length of the password should be 10 characters long.\"\"\"\n",
    "\n",
    "\n",
    "def fun(s):\n",
    "    lower_case=0\n",
    "    upper_case=0\n",
    "    special_case=0\n",
    "    num=0\n",
    "    \n",
    "    for i in list(range(len(s))):\n",
    "        if (s[i]>='a' and s[i]<='z'):\n",
    "            lower_case+=1\n",
    "        elif (s[i]>='A' and s[i]<='Z'):\n",
    "            upper_case+=1\n",
    "        elif (s[i]>='0' and s[i]<='9'):\n",
    "            num+=1\n",
    "            \n",
    "        \n",
    "        else:\n",
    "            special_case+=1\n",
    "            \n",
    "            \n",
    "    if (lower_case>=2 and upper_case>=2 and num>=1 and special_case>=3 and len(s)>=10):\n",
    "        return True\n",
    "        \n",
    "    else:\n",
    "        return False"
   ]
  },
  {
   "cell_type": "code",
   "execution_count": 3,
   "id": "e929bfe5-30f1-4ad6-997f-56f5f869cbce",
   "metadata": {},
   "outputs": [
    {
     "name": "stdin",
     "output_type": "stream",
     "text": [
      "enter your input JAii@@@3699\n"
     ]
    },
    {
     "data": {
      "text/plain": [
       "True"
      ]
     },
     "execution_count": 3,
     "metadata": {},
     "output_type": "execute_result"
    }
   ],
   "source": [
    "string=input('enter your input')\n",
    "fun(string)"
   ]
  },
  {
   "cell_type": "code",
   "execution_count": null,
   "id": "709a3e44-ad05-41e7-8bc5-37f8dee24a75",
   "metadata": {},
   "outputs": [],
   "source": [
    "\"\"\"Q2. Solve the below-given questions using at least one of the following:\n",
    "1. Lambda function\n",
    "2. Filter function\n",
    "3. Zap function\n",
    "4. List Comprehension\"\"\""
   ]
  },
  {
   "cell_type": "code",
   "execution_count": 4,
   "id": "c1e356ad-666d-4174-a854-802ad38fbc86",
   "metadata": {},
   "outputs": [
    {
     "name": "stdin",
     "output_type": "stream",
     "text": [
      "Enter the string jai\n",
      "enter the letter to start with j\n"
     ]
    },
    {
     "data": {
      "text/plain": [
       "True"
      ]
     },
     "execution_count": 4,
     "metadata": {},
     "output_type": "execute_result"
    }
   ],
   "source": [
    "\"\"\"Check if the string starts with a particular letter\"\"\"\n",
    "\n",
    "str=input('Enter the string')\n",
    "y=input('enter the letter to start with')\n",
    "\n",
    "\n",
    "j=lambda str:True if str.startswith(y) else False\n",
    "\n",
    "j(str)"
   ]
  },
  {
   "cell_type": "code",
   "execution_count": 6,
   "id": "5bc3084b-706c-43c4-9066-247a56d3e05c",
   "metadata": {},
   "outputs": [
    {
     "name": "stdin",
     "output_type": "stream",
     "text": [
      "Enter the string 123456\n"
     ]
    },
    {
     "data": {
      "text/plain": [
       "True"
      ]
     },
     "execution_count": 6,
     "metadata": {},
     "output_type": "execute_result"
    }
   ],
   "source": [
    "\"\"\" Check if the string is numeric\"\"\"\n",
    "\n",
    "string=input('Enter the string')\n",
    "check_num=lambda string:True if string.isnumeric() else False\n",
    "\n",
    "check_num(string)"
   ]
  },
  {
   "cell_type": "code",
   "execution_count": 7,
   "id": "1053ba74-753e-4b4a-b63e-2133f509c132",
   "metadata": {},
   "outputs": [],
   "source": [
    "##Sort a list of tuples having fruit names and their quantity. [(\"mango\",99),(\"orange\",80), (\"grapes\", 1000)]\n",
    "\n",
    "def sort_tuple(t):\n",
    "    t.sort(key=lambda x:x[1])\n",
    "    return t"
   ]
  },
  {
   "cell_type": "code",
   "execution_count": 8,
   "id": "d77a0e52-0e23-45f3-ab9d-06aaea966b5a",
   "metadata": {},
   "outputs": [
    {
     "name": "stdout",
     "output_type": "stream",
     "text": [
      "[('orange', 80), ('mango', 99), ('grapes', 1000)]\n"
     ]
    }
   ],
   "source": [
    "t=[(\"mango\",99),(\"orange\",80), (\"grapes\", 1000)]\n",
    "print(sort_tuple(t))"
   ]
  },
  {
   "cell_type": "code",
   "execution_count": 9,
   "id": "2a15a0b4-d8c9-45ba-a06f-a89945a9655c",
   "metadata": {},
   "outputs": [
    {
     "data": {
      "text/plain": [
       "[1, 4, 9, 16, 25, 36, 49, 64, 81, 100]"
      ]
     },
     "execution_count": 9,
     "metadata": {},
     "output_type": "execute_result"
    }
   ],
   "source": [
    "##Find the squares of numbers from 1 to 10\n",
    "\n",
    "l=range(1,11)\n",
    "list(map(lambda x:x**2,l))"
   ]
  },
  {
   "cell_type": "code",
   "execution_count": 11,
   "id": "99f99e24-215e-42b5-8b02-41edefc1d537",
   "metadata": {},
   "outputs": [
    {
     "data": {
      "text/plain": [
       "[1, 4, 9, 16, 25, 36, 49, 64, 81, 100]"
      ]
     },
     "execution_count": 11,
     "metadata": {},
     "output_type": "execute_result"
    }
   ],
   "source": [
    "## Using List Comprehension\n",
    "[i**2 for i in l]"
   ]
  },
  {
   "cell_type": "code",
   "execution_count": 12,
   "id": "ffddea53-ee21-4da4-9f4b-210745196051",
   "metadata": {},
   "outputs": [
    {
     "data": {
      "text/plain": [
       "[1.0,\n",
       " 1.2599210498948732,\n",
       " 1.4422495703074083,\n",
       " 1.5874010519681994,\n",
       " 1.7099759466766968,\n",
       " 1.8171205928321397,\n",
       " 1.912931182772389,\n",
       " 2.0,\n",
       " 2.080083823051904,\n",
       " 2.154434690031884]"
      ]
     },
     "execution_count": 12,
     "metadata": {},
     "output_type": "execute_result"
    }
   ],
   "source": [
    "## Find the cube root of numbers from 1 to 10\n",
    "\n",
    "l2=range(1,11)\n",
    "list(map(lambda x:x**(1/3),l2))"
   ]
  },
  {
   "cell_type": "code",
   "execution_count": 14,
   "id": "4e1e8cc6-b052-42b8-9225-ac12fff961c1",
   "metadata": {},
   "outputs": [
    {
     "name": "stdin",
     "output_type": "stream",
     "text": [
      "Enter a num 24\n"
     ]
    },
    {
     "data": {
      "text/plain": [
       "True"
      ]
     },
     "execution_count": 14,
     "metadata": {},
     "output_type": "execute_result"
    }
   ],
   "source": [
    "## Check if a given number is even\n",
    "\n",
    "num=int(input('Enter a num'))\n",
    "check_even=lambda num:True if num%2==0 else False\n",
    "\n",
    "check_even(num)\n"
   ]
  },
  {
   "cell_type": "code",
   "execution_count": 15,
   "id": "91c72478-4904-4ae3-958c-dc6fd1fca18b",
   "metadata": {},
   "outputs": [
    {
     "data": {
      "text/plain": [
       "[1, 3, 5, 7, 9]"
      ]
     },
     "execution_count": 15,
     "metadata": {},
     "output_type": "execute_result"
    }
   ],
   "source": [
    "\"\"\" Filter odd numbers from the given list.\n",
    "[1,2,3,4,5,6,7,8,9,10]\n",
    "\"\"\"\n",
    "\n",
    "l3=[1,2,3,4,5,6,7,8,9]\n",
    "list(filter(lambda x:x%2!=0,l3))"
   ]
  },
  {
   "cell_type": "code",
   "execution_count": 16,
   "id": "a0175b66-3364-413f-babc-bbc01eb74bbc",
   "metadata": {},
   "outputs": [
    {
     "name": "stdout",
     "output_type": "stream",
     "text": [
      "[1, 2, 3, 4, 5, 6, 0] [-1, -2, -3, -4, -5]\n"
     ]
    }
   ],
   "source": [
    "\"\"\"Sort a list of integers into positive and negative integers lists.\n",
    "[1,2,3,4,5,6,-1,-2,-3,-4,-5,0]\n",
    "\"\"\"\n",
    "\n",
    "neg_list=[]\n",
    "pos_list=[]\n",
    "given_list=[1,2,3,4,5,6,-1,-2,-3,-4,-5,0]\n",
    "list(filter(lambda x:pos_list.append(x) if x>=0 else neg_list.append(x),given_list))\n",
    "\n",
    "print(pos_list,neg_list)\n",
    "\n"
   ]
  },
  {
   "cell_type": "code",
   "execution_count": null,
   "id": "9fac4a64-82af-4fd0-8b13-280ba0c5fc07",
   "metadata": {},
   "outputs": [],
   "source": []
  }
 ],
 "metadata": {
  "kernelspec": {
   "display_name": "Python 3 (ipykernel)",
   "language": "python",
   "name": "python3"
  },
  "language_info": {
   "codemirror_mode": {
    "name": "ipython",
    "version": 3
   },
   "file_extension": ".py",
   "mimetype": "text/x-python",
   "name": "python",
   "nbconvert_exporter": "python",
   "pygments_lexer": "ipython3",
   "version": "3.10.8"
  }
 },
 "nbformat": 4,
 "nbformat_minor": 5
}
