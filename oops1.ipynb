{
 "cells": [
  {
   "cell_type": "code",
   "execution_count": 6,
   "id": "a4e68c8c-376f-4ee3-99ed-f0fb89e87e5c",
   "metadata": {},
   "outputs": [
    {
     "name": "stdout",
     "output_type": "stream",
     "text": [
      "This is a student class and this function is invoked using the object of the class\n"
     ]
    }
   ],
   "source": [
    "\"\"\" Q.1--> A class is a user defined blueprint of an object. It is user defined not built in because user \n",
    "define it according to the requirement.\n",
    "Class provides encapsulation that is it provides data and functions into a single unit.\n",
    "The memory is not allocated to the variables of the class until its object is created.When object of the class is \n",
    "created then memory to the variables of class is allocated.\n",
    "\n",
    "\n",
    "Object-->An object is an instance of a class.It is an real world entity like car,dog etc.\n",
    "Every object has an individual copy of all the variables in the class.\n",
    "\n",
    "\"\"\"\n",
    "\n",
    "class student:\n",
    "    def class_object(self):\n",
    "        print('This is a student class and this function is invoked using the object of the class')\n",
    "        \n",
    "        \n",
    "obj=student()      \n",
    "obj.class_object()"
   ]
  },
  {
   "cell_type": "code",
   "execution_count": 7,
   "id": "7a4fcfff-ab51-4e91-a87f-2a8fc715f6d1",
   "metadata": {},
   "outputs": [
    {
     "data": {
      "text/plain": [
       "\"Q.2--> The four pillars of object-oriented-programming are\\nAbstraction-->Abstraction means hiding the background details like while driving car we change the gear but we\\ndon't the internal functionality of the gear.\\n\\nEncapsulation-->Encapsulation means wrapping up of data and function into single unit.\\n\\nInheritance-->Inheritance means when a child class acquires the properties of base class.\\n\\npolymorphism-->It means ability to display in more than one form. There are two types of polymorphism \\nRuntime polymorphism which is achieved through method overriding and other one is Compile time polymorphism\\nwhich is achieved through method overriding\\n\\n\\n\""
      ]
     },
     "execution_count": 7,
     "metadata": {},
     "output_type": "execute_result"
    }
   ],
   "source": [
    "\"\"\"Q.2--> The four pillars of object-oriented-programming are\n",
    "Abstraction-->Abstraction means hiding the background details like while driving car we change the gear but we\n",
    "don't the internal functionality of the gear.\n",
    "\n",
    "Encapsulation-->Encapsulation means wrapping up of data and function into single unit.\n",
    "\n",
    "Inheritance-->Inheritance means when a child class acquires the properties of base class.\n",
    "\n",
    "polymorphism-->It means ability to display in more than one form. There are two types of polymorphism \n",
    "Runtime polymorphism which is achieved through method overriding and other one is Compile time polymorphism\n",
    "which is achieved through method overriding\n",
    "\n",
    "\n",
    "\"\"\""
   ]
  },
  {
   "cell_type": "code",
   "execution_count": 5,
   "id": "560135ac-4080-4965-b2f4-6a4fd09a886f",
   "metadata": {},
   "outputs": [
    {
     "name": "stdout",
     "output_type": "stream",
     "text": [
      "Hello i'm present in constructor...\n"
     ]
    }
   ],
   "source": [
    "\"\"\"Q.3--> The __init__() function is a constructor function in python.It is implicitly invoked when the\n",
    "object of the class is created and the instructions present in the constructor are executed when \n",
    "the object is created.\n",
    "\n",
    "\"\"\"\n",
    "\n",
    "class check_cons():\n",
    "    \n",
    "    def __init__(self):\n",
    "        print(\"Hello i'm present in constructor...\")\n",
    "        \n",
    "        \n",
    "obj2=check_cons()\n",
    "\n",
    "        "
   ]
  },
  {
   "cell_type": "code",
   "execution_count": 6,
   "id": "0f6148d7-89e9-4e23-8e46-28a21adf663c",
   "metadata": {},
   "outputs": [
    {
     "data": {
      "text/plain": [
       "'Q.4-->The self is used to represent the instance of the class. By using self we can access\\nthe attributes and methods of the class.It binds the attributes with the given arguements.\\nThe self must be privided first in the parameter otherwise it will cause an error. Self is not \\nan keyword we can give any name instead of self but it should be first in the parameters of the\\nfuntion.\\n\\n\\n'"
      ]
     },
     "execution_count": 6,
     "metadata": {},
     "output_type": "execute_result"
    }
   ],
   "source": [
    "\"\"\"Q.4-->The self is used to represent the instance of the class. By using self we can access\n",
    "the attributes and methods of the class.It binds the attributes with the given arguements.\n",
    "The self must be privided first in the parameter otherwise it will cause an error. Self is not \n",
    "an keyword we can give any name instead of self but it should be first in the parameters of the\n",
    "funtion.\n",
    "\n",
    "\n",
    "\"\"\""
   ]
  },
  {
   "cell_type": "code",
   "execution_count": 13,
   "id": "fdffde5c-c780-422f-a06a-765ee0503a9b",
   "metadata": {},
   "outputs": [
    {
     "name": "stdout",
     "output_type": "stream",
     "text": [
      "Hello i'm in parent class method...\n",
      "Hello i'm in child class method...\n",
      "eagle's sound\n",
      "ppppppp\n",
      "this is method of bird class...\n"
     ]
    }
   ],
   "source": [
    "\"\"\"Q.5--> Inheritance is the mechanism of inheriting the property of the base(parent) class by the \n",
    "child class.Inheritance helps in code resuability.\n",
    "Following are the types of inheritance in python:\n",
    "\"\"\"\n",
    "\"\"\"Single level Inheritance-->In single level inheritance the child class inherit the property of\n",
    "single parent class.\n",
    "\n",
    "\"\"\"\n",
    "class parent:\n",
    "    def fun_parent(self):\n",
    "        print(\"Hello i'm in parent class method...\")\n",
    "        \n",
    "class child(parent):\n",
    "    def fun_child(self):\n",
    "        print(\"Hello i'm in child class method...\")\n",
    "        \n",
    "        \n",
    "obj3=child()\n",
    "obj3.fun_parent()\n",
    "obj3.fun_child()\n",
    "\n",
    "\n",
    "\n"
   ]
  },
  {
   "cell_type": "code",
   "execution_count": 14,
   "id": "03635e49-9d08-4f7e-b349-66389d0f9a07",
   "metadata": {},
   "outputs": [
    {
     "name": "stdout",
     "output_type": "stream",
     "text": [
      "eagle's sound\n",
      "ppppppp\n",
      "this is method of bird class...\n"
     ]
    }
   ],
   "source": [
    "\"\"\" \n",
    "Multiple Inheritance--> When a class can be derived from more than one base(parent) class then this type\n",
    "of inheritanceis called multiple inheritances. In multiple inheritances, all the features of the base classes are \n",
    "inherited into the derived class\n",
    "\n",
    "\n",
    "\"\"\"\n",
    "class eagle():\n",
    "    def sound_eagle(self):\n",
    "        print(\"eagle's sound\")\n",
    "        \n",
    "class parrot():\n",
    "    def sound_parrot(self):\n",
    "        print('ppppppp')\n",
    "        \n",
    "    \n",
    "class birds(eagle,parrot):\n",
    "    def fun_birds(self):\n",
    "        print(\"this is method of bird class...\")\n",
    "\n",
    "obj4=birds()\n",
    "obj4.sound_eagle()\n",
    "obj4.sound_parrot()\n",
    "obj4.fun_birds()"
   ]
  },
  {
   "cell_type": "code",
   "execution_count": 19,
   "id": "0886c8a1-2696-4598-8903-a99c671b67be",
   "metadata": {},
   "outputs": [
    {
     "name": "stdout",
     "output_type": "stream",
     "text": [
      "Suresh\n",
      "Grandfather name : Suresh\n",
      "Father name : Ramesh\n",
      "Son name : Amit\n"
     ]
    }
   ],
   "source": [
    "\"\"\"\n",
    "Multilevel Inheritance-->In multilevel inheritance, features of the base class and the\n",
    "derived class are further inherited into the new derived class. This is similar to a\n",
    "relationship representing a child and a grandfather. \n",
    "\"\"\"\n",
    " \n",
    "class Grandfather:\n",
    " \n",
    "    def __init__(self, grandfathername):\n",
    "        self.grandfathername = grandfathername\n",
    " \n",
    "\n",
    " \n",
    " \n",
    "class Father(Grandfather):\n",
    "    def __init__(self, fathername, grandfathername):\n",
    "        self.fathername = fathername\n",
    " \n",
    "       \n",
    "        Grandfather.__init__(self, grandfathername)\n",
    " \n",
    "\n",
    " \n",
    " \n",
    "class Son(Father):\n",
    "    def __init__(self, sonname, fathername, grandfathername):\n",
    "        self.sonname = sonname\n",
    " \n",
    "       \n",
    "        Father.__init__(self, fathername, grandfathername)\n",
    " \n",
    "    def print_name(self):\n",
    "        print('Grandfather name :', self.grandfathername)\n",
    "        print(\"Father name :\", self.fathername)\n",
    "        print(\"Son name :\", self.sonname)\n",
    " \n",
    " \n",
    "\n",
    "s1 = Son('Amit', 'Ramesh', 'Suresh')\n",
    "print(s1.grandfathername)\n",
    "s1.print_name()"
   ]
  },
  {
   "cell_type": "code",
   "execution_count": 21,
   "id": "2945f03b-24af-43f4-b8d8-27b39645982e",
   "metadata": {},
   "outputs": [
    {
     "name": "stdout",
     "output_type": "stream",
     "text": [
      "This function is in parent class.\n",
      "This function is in child 1.\n",
      "This function is in parent class.\n",
      "This function is in child 2.\n"
     ]
    }
   ],
   "source": [
    "\"\"\" Hierarchical inheritance-->When more than one derived class are created from a single base this type of inheritance \n",
    "is called hierarchical inheritance.\n",
    "\n",
    "\"\"\"\n",
    "class Parent1:\n",
    "    def func1(self):\n",
    "        print(\"This function is in parent class.\")\n",
    " \n",
    "\n",
    " \n",
    " \n",
    "class Child11(Parent1):\n",
    "    def func2(self):\n",
    "        print(\"This function is in child 1.\")\n",
    " \n",
    "\n",
    " \n",
    " \n",
    "class Child22(Parent1):\n",
    "    def func3(self):\n",
    "        print(\"This function is in child 2.\")\n",
    " \n",
    " \n",
    "\n",
    "object1 = Child11()\n",
    "object2 = Child22()\n",
    "object1.func1()\n",
    "object1.func2()\n",
    "object2.func1()\n",
    "object2.func3()"
   ]
  },
  {
   "cell_type": "code",
   "execution_count": 22,
   "id": "c24ff189-1d7f-41fe-b5a5-5c2f1471cdf3",
   "metadata": {},
   "outputs": [
    {
     "name": "stdout",
     "output_type": "stream",
     "text": [
      "This function is in school...\n",
      "This function is in student 1.... \n"
     ]
    }
   ],
   "source": [
    "\"\"\"Hybrid inheritance-->Inheritance consisting of multiple types of inheritance is called hybrid inheritance\"\"\"\n",
    "class School:\n",
    "    def func1(self):\n",
    "        print(\"This function is in school...\")\n",
    " \n",
    " \n",
    "class Student1(School):\n",
    "    def func2(self):\n",
    "        print(\"This function is in student 1.... \")\n",
    " \n",
    " \n",
    "class Student2(School):\n",
    "    def func3(self):\n",
    "        print(\"This function is in student 2....\")\n",
    " \n",
    " \n",
    "class Student3(Student1, School):\n",
    "    def func4(self):\n",
    "        print(\"This function is in student 3....\")\n",
    " \n",
    " \n",
    "\n",
    "obj5 = Student3()\n",
    "obj5.func1()\n",
    "obj5.func2()\n"
   ]
  },
  {
   "cell_type": "code",
   "execution_count": null,
   "id": "8d00af4e-2a84-477a-9307-c9d8cc8bc35b",
   "metadata": {},
   "outputs": [],
   "source": []
  }
 ],
 "metadata": {
  "kernelspec": {
   "display_name": "Python 3 (ipykernel)",
   "language": "python",
   "name": "python3"
  },
  "language_info": {
   "codemirror_mode": {
    "name": "ipython",
    "version": 3
   },
   "file_extension": ".py",
   "mimetype": "text/x-python",
   "name": "python",
   "nbconvert_exporter": "python",
   "pygments_lexer": "ipython3",
   "version": "3.10.8"
  }
 },
 "nbformat": 4,
 "nbformat_minor": 5
}
