{
 "cells": [
  {
   "cell_type": "code",
   "execution_count": 2,
   "id": "603856e3-9f7d-4027-9da6-c394fd248984",
   "metadata": {},
   "outputs": [
    {
     "data": {
      "text/plain": [
       "\"Q1. Which function is used to open a file? What are the different modes of opening a file? Explain each mode\\nof file opening.\\nAnswer-->open() function is used to open a file. We can open a file with two different ways \\n1)f=open('jai.txt','w')\\n2)with open('jai1.txt','w') as f:\\n     f.write('Hello')\\n\\n\\n\\nRead Only (‘r’) : Open text file for reading. The handle is positioned at the beginning of the file. If the file\\ndoes not exists, raises the I/O error. This is also the default mode in which a file is opened.\\n\\n\\nRead and Write (‘r+’): Open the file for reading and writing. The handle is positioned at the beginning of the\\nfile. Raises I/O error if the file does not exist.\\n\\n\\nWrite Only (‘w’) : Open the file for writing. For the existing files, the data is truncated and over-written. \\nThe handle is positioned at the beginning of the file. Creates the file if the file does not exist.\\n\\n\\nWrite and Read (‘w+’) : Open the file for reading and writing. For an existing file, data is truncated \\nand over-written. The handle is positioned at the beginning of the file.\\n\\n\\nAppend Only (‘a’): Open the file for writing. The file is created if it does not exist. The handle is\\npositioned at the end of the file. The data being written will be inserted at the end, after the existing data.\\n\\n\\nAppend and Read (‘a+’) : Open the file for reading and writing. The file is created if it does not exist. \\nThe handle is positioned at the end of the file. The data being written will be inserted at the end, after\\nthe existing data\\n\\n\\n\""
      ]
     },
     "execution_count": 2,
     "metadata": {},
     "output_type": "execute_result"
    }
   ],
   "source": [
    "\"\"\"Q1. Which function is used to open a file? What are the different modes of opening a file? Explain each mode\n",
    "of file opening.\n",
    "Answer-->open() function is used to open a file. We can open a file with two different ways \n",
    "1)f=open('jai.txt','w')\n",
    "2)with open('jai1.txt','w') as f:\n",
    "     f.write('Hello')\n",
    "\n",
    "\n",
    "\n",
    "Read Only (‘r’) : Open text file for reading. The handle is positioned at the beginning of the file. If the file\n",
    "does not exists, raises the I/O error. This is also the default mode in which a file is opened.\n",
    "\n",
    "\n",
    "Read and Write (‘r+’): Open the file for reading and writing. The handle is positioned at the beginning of the\n",
    "file. Raises I/O error if the file does not exist.\n",
    "\n",
    "\n",
    "Write Only (‘w’) : Open the file for writing. For the existing files, the data is truncated and over-written. \n",
    "The handle is positioned at the beginning of the file. Creates the file if the file does not exist.\n",
    "\n",
    "\n",
    "Write and Read (‘w+’) : Open the file for reading and writing. For an existing file, data is truncated \n",
    "and over-written. The handle is positioned at the beginning of the file.\n",
    "\n",
    "\n",
    "Append Only (‘a’): Open the file for writing. The file is created if it does not exist. The handle is\n",
    "positioned at the end of the file. The data being written will be inserted at the end, after the existing data.\n",
    "\n",
    "\n",
    "Append and Read (‘a+’) : Open the file for reading and writing. The file is created if it does not exist. \n",
    "The handle is positioned at the end of the file. The data being written will be inserted at the end, after\n",
    "the existing data\n",
    "\n",
    "\n",
    "\"\"\"\n"
   ]
  },
  {
   "cell_type": "code",
   "execution_count": null,
   "id": "73b99cac-0554-4c87-82ee-6a7a9b9e3b26",
   "metadata": {},
   "outputs": [],
   "source": [
    "\"\"\"Q2. Why close() function is used? Why is it important to close a file?\n",
    "   Answer-->The close() function is used to close the file which is opened for reading or writing\n",
    "   operation.After our operation on the file has done then we invoke the close() function so that\n",
    "   the file is closed.\n",
    "   If we are writing in a file with this type of syntax-->f=open('jai2.txt','w') then if we don't invoke\n",
    "   close() function then the data which we have written will not reflect in the file.\n",
    "   \n",
    "   There are some more important reasons to close a file-->\n",
    "   1) If the file has any sort of buffering behind it and we don't call close then we could potentially \n",
    "   lose data\n",
    "   \n",
    "   2) If the OS has limited resources (e.g. number of open files) then by not closing files we are wasting\n",
    "   system resources.\n",
    "   \n",
    "   3) If we don't close a file opened for reading it can be blocked for concurrent writes. If we don't \n",
    "   close a file opened for writing - we can loose a piece of last-written data which OS holds in the buffer.\n",
    "\n",
    "   4) When we write to a file using write() system call, it doesn't writes immediately to the file. \n",
    "   So after our operations, we have to call close() so that the buffer is flushed to the file and\n",
    "   changes persist. After calling close(), we cannot use the file descriptor.\"\"\""
   ]
  },
  {
   "cell_type": "code",
   "execution_count": 3,
   "id": "0cdb4670-edad-4b49-ae3c-095e0af60d24",
   "metadata": {},
   "outputs": [],
   "source": [
    "\"\"\"Q3. Write a python program to create a text file. Write ‘I want to become a Data Scientist’ in that file. Then\n",
    "close the file. Open this file and read the content of the file.\"\"\"\n",
    "\n",
    "f=open('test1.txt','w')"
   ]
  },
  {
   "cell_type": "code",
   "execution_count": 4,
   "id": "0adbb003-6211-402c-95f4-16dc5b5a8de9",
   "metadata": {},
   "outputs": [
    {
     "data": {
      "text/plain": [
       "33"
      ]
     },
     "execution_count": 4,
     "metadata": {},
     "output_type": "execute_result"
    }
   ],
   "source": [
    "f.write('I want to become a Data Scientist')"
   ]
  },
  {
   "cell_type": "code",
   "execution_count": 5,
   "id": "5e0cd0fa-59de-4699-b9b7-a0d1699b94d2",
   "metadata": {},
   "outputs": [],
   "source": [
    "f.close()"
   ]
  },
  {
   "cell_type": "code",
   "execution_count": 7,
   "id": "ace2be50-075e-4296-9889-d6d7b9d687e1",
   "metadata": {},
   "outputs": [],
   "source": [
    "f=open('test1.txt','r')"
   ]
  },
  {
   "cell_type": "code",
   "execution_count": 8,
   "id": "a7311745-65e1-4f22-9dac-7760cf9856e9",
   "metadata": {},
   "outputs": [
    {
     "data": {
      "text/plain": [
       "'I want to become a Data Scientist'"
      ]
     },
     "execution_count": 8,
     "metadata": {},
     "output_type": "execute_result"
    }
   ],
   "source": [
    "f.read()"
   ]
  },
  {
   "cell_type": "code",
   "execution_count": null,
   "id": "f39043b0-e067-4e0f-af9a-d92ef339ed8e",
   "metadata": {},
   "outputs": [],
   "source": []
  },
  {
   "cell_type": "code",
   "execution_count": 46,
   "id": "d9531a87-6ada-44bf-9ff0-0ff7d45a2351",
   "metadata": {},
   "outputs": [],
   "source": [
    "\"\"\"Q4. Explain the following with python code: read(), readline() and readlines().\"\"\"\n",
    "\n",
    "\"\"\" read() is used to read the complete data of the file as it is which is present in the file.\n",
    "read() print the data as it is presnt in our data file\"\"\"\n",
    "\n",
    "\n",
    "with open('test2.txt','w') as f:\n",
    "    f.write(\"Data Science Masters course is highly curated and uniquely designed according to the\\n latest industry standards. This program instills students the skills essential to\\n knowledge discovery efforts to identify standard, novel, and\\n truly differentiated solutions and decision-making, including skills in managing, querying, analyzing, visualizing, and extracting meaning from extremely large data sets. This trending program provides students with the statistical, mathematical and computational skills needed to meet the large-scale data science challenges of today's professional world. You will learn all the stack required to work in data science industry including cloud infrastructure and real-time industry projects. This course will be taught in Hindi language.\")"
   ]
  },
  {
   "cell_type": "code",
   "execution_count": 47,
   "id": "2743d3b6-894f-4aa7-835c-037db7124d36",
   "metadata": {},
   "outputs": [],
   "source": [
    "f.close()"
   ]
  },
  {
   "cell_type": "code",
   "execution_count": 48,
   "id": "7abe6e9c-a4a9-483b-9721-eab8aa19bc80",
   "metadata": {},
   "outputs": [],
   "source": [
    "with open('test2.txt','r') as f:\n",
    "    data=f.read()"
   ]
  },
  {
   "cell_type": "code",
   "execution_count": 49,
   "id": "3944290d-2e12-4746-ab7b-1e078d1cf875",
   "metadata": {},
   "outputs": [
    {
     "data": {
      "text/plain": [
       "\"Data Science Masters course is highly curated and uniquely designed according to the\\n latest industry standards. This program instills students the skills essential to\\n knowledge discovery efforts to identify standard, novel, and\\n truly differentiated solutions and decision-making, including skills in managing, querying, analyzing, visualizing, and extracting meaning from extremely large data sets. This trending program provides students with the statistical, mathematical and computational skills needed to meet the large-scale data science challenges of today's professional world. You will learn all the stack required to work in data science industry including cloud infrastructure and real-time industry projects. This course will be taught in Hindi language.\""
      ]
     },
     "execution_count": 49,
     "metadata": {},
     "output_type": "execute_result"
    }
   ],
   "source": [
    "data"
   ]
  },
  {
   "cell_type": "code",
   "execution_count": 50,
   "id": "2fedf9fd-621d-4e23-8dcc-8a6bc6857e53",
   "metadata": {},
   "outputs": [
    {
     "name": "stdout",
     "output_type": "stream",
     "text": [
      "Data Science Masters course is highly curated and uniquely designed according to the\n",
      "\n"
     ]
    }
   ],
   "source": [
    "\"\"\" readline() method return a line from the file which we have called.\n",
    "\n",
    "The readline method takes one parameter i.e size, the default value for the size parameter is -1. \n",
    "It means that the method will return the whole line. It is an optional parameter, we can specify the\n",
    "number of bytes from a line to return.\"\"\"\n",
    "\n",
    "\n",
    "with open('test2.txt','r') as f:\n",
    "    print(f.readline())"
   ]
  },
  {
   "cell_type": "code",
   "execution_count": 51,
   "id": "9c58a28d-adfe-4544-aced-ad7acb3d442a",
   "metadata": {},
   "outputs": [
    {
     "name": "stdout",
     "output_type": "stream",
     "text": [
      "['Data Science Masters course is highly curated and uniquely designed according to the\\n', ' latest industry standards. This program instills students the skills essential to\\n', ' knowledge discovery efforts to identify standard, novel, and\\n', \" truly differentiated solutions and decision-making, including skills in managing, querying, analyzing, visualizing, and extracting meaning from extremely large data sets. This trending program provides students with the statistical, mathematical and computational skills needed to meet the large-scale data science challenges of today's professional world. You will learn all the stack required to work in data science industry including cloud infrastructure and real-time industry projects. This course will be taught in Hindi language.\"]\n"
     ]
    }
   ],
   "source": [
    "\"\"\"readlines() will return all the lines in the format of list where each element is a line of\n",
    "the file.\n",
    "The readlines method takes one parameter i.e hint, the default value for the hint parameter \n",
    "is -1. It means that the method will return all the lines. If we specify the hint parameter,\n",
    "the lines exceeding the number of bytes from the hint parameter will not be returned by the readlines method.\n",
    "\"\"\"\n",
    "\n",
    "with open('test2.txt','r') as f:\n",
    "    print(f.readlines())"
   ]
  },
  {
   "cell_type": "code",
   "execution_count": null,
   "id": "65d7ecf9-a2c0-4324-81e2-ce6ea1d8af6e",
   "metadata": {},
   "outputs": [],
   "source": []
  },
  {
   "cell_type": "code",
   "execution_count": null,
   "id": "d957eec0-416e-478d-b856-d48ec1f975dd",
   "metadata": {},
   "outputs": [],
   "source": []
  },
  {
   "cell_type": "code",
   "execution_count": 52,
   "id": "762d11ee-8c9b-4a99-8573-1b02744afaa1",
   "metadata": {},
   "outputs": [
    {
     "data": {
      "text/plain": [
       "\"Q5. Explain why with statement is used with open(). What is the advantage of using with statement and\\nopen() together?\\n  \\n  Answer-->with statement is used in exception handling to make the code cleaner and much more \\n  readable. It simplifies the management of common resources like file streams.\\n  when we are using with statement then we don't need to close the file using close() function.\\n  By using with statement and open() together the code becomes more readible and it is free from\\n  any kind of bugs because if the file is not closed then there can be bugs and it is using the system\\n  resources unncessarily. when we use with statement the data immediately stores in the file.\\n  We can also open multiple files together with open statement.\\n\""
      ]
     },
     "execution_count": 52,
     "metadata": {},
     "output_type": "execute_result"
    }
   ],
   "source": [
    "\"\"\"Q5. Explain why with statement is used with open(). What is the advantage of using with statement and\n",
    "open() together?\n",
    "  \n",
    "  Answer-->with statement is used in exception handling to make the code cleaner and much more \n",
    "  readable. It simplifies the management of common resources like file streams.\n",
    "  when we are using with statement then we don't need to close the file using close() function.\n",
    "  By using with statement and open() together the code becomes more readible and it is free from\n",
    "  any kind of bugs because if the file is not closed then there can be bugs and it is using the system\n",
    "  resources unncessarily. when we use with statement the data immediately stores in the file.\n",
    "  We can also open multiple files together with open statement.\n",
    "\"\"\""
   ]
  },
  {
   "cell_type": "code",
   "execution_count": null,
   "id": "b3df1b52-4e1e-46db-9bd8-adb676eccdd4",
   "metadata": {},
   "outputs": [],
   "source": []
  },
  {
   "cell_type": "code",
   "execution_count": 53,
   "id": "8a8843cd-a24b-4738-906d-933712be1cf0",
   "metadata": {},
   "outputs": [
    {
     "data": {
      "text/plain": [
       "'Q6. Explain the write() and writelines() functions. Give a suitable example.\\n  Answer--> The write() function is used to write the string in the opened file.The string may\\n  include numbers,special characters,or symbols.While writing data to a file,we must know that the write\\n  function does not add a newline character(\\n) to the end of the string.The write() function\\n  returns None.\\n  \\n  writelines() is a method used to write a list of strings in an opened file.\\n\\n'"
      ]
     },
     "execution_count": 53,
     "metadata": {},
     "output_type": "execute_result"
    }
   ],
   "source": [
    "\"\"\"Q6. Explain the write() and writelines() functions. Give a suitable example.\n",
    "  Answer--> The write() function is used to write the string in the opened file.The string may\n",
    "  include numbers,special characters,or symbols.While writing data to a file,we must know that the write\n",
    "  function does not add a newline character(\\n) to the end of the string.The write() function\n",
    "  returns None.\n",
    "  \n",
    "  writelines() is a method used to write a list of strings in an opened file.\n",
    "\n",
    "\"\"\"\n"
   ]
  },
  {
   "cell_type": "code",
   "execution_count": 54,
   "id": "a13623e8-7b4d-4bf7-b6b5-0fde5a10d416",
   "metadata": {},
   "outputs": [],
   "source": [
    "f=open('test3.txt','w')"
   ]
  },
  {
   "cell_type": "code",
   "execution_count": 56,
   "id": "0c84653a-ad0d-470f-9d8c-c9d157fb169c",
   "metadata": {},
   "outputs": [
    {
     "data": {
      "text/plain": [
       "765"
      ]
     },
     "execution_count": 56,
     "metadata": {},
     "output_type": "execute_result"
    }
   ],
   "source": [
    "f.write(\"Data Science Masters course is highly curated and uniquely designed according to the latest industry standards. This program instills students the skills essential to knowledge discovery efforts to identify standard, novel, and truly differentiated solutions and decision-making, including skills in managing, querying, analyzing, visualizing, and extracting meaning from extremely large data sets. This trending program provides students with the statistical, mathematical and computational skills needed to meet the large-scale data science challenges of today's professional world. You will learn all the stack required to work in data science industry including cloud infrastructure and real-time industry projects. This course will be taught in Hindi language.\")"
   ]
  },
  {
   "cell_type": "code",
   "execution_count": 57,
   "id": "1082f08f-8d45-45ea-86ff-7439f81c7b55",
   "metadata": {},
   "outputs": [],
   "source": [
    "f.close()"
   ]
  },
  {
   "cell_type": "code",
   "execution_count": 58,
   "id": "83140bce-b0dd-4356-8d14-44ecca7d9a1b",
   "metadata": {},
   "outputs": [],
   "source": [
    "f=open('test3.txt','r')"
   ]
  },
  {
   "cell_type": "code",
   "execution_count": 59,
   "id": "e6d764dc-5c23-4c51-a105-4e39827b5f38",
   "metadata": {},
   "outputs": [
    {
     "name": "stdout",
     "output_type": "stream",
     "text": [
      "Data Science Masters course is highly curated and uniquely designed according to the latest industry standards. This program instills students the skills essential to knowledge discovery efforts to identify standard, novel, and truly differentiated solutions and decision-making, including skills in managing, querying, analyzing, visualizing, and extracting meaning from extremely large data sets. This trending program provides students with the statistical, mathematical and computational skills needed to meet the large-scale data science challenges of today's professional world. You will learn all the stack required to work in data science industry including cloud infrastructure and real-time industry projects. This course will be taught in Hindi language.\n"
     ]
    }
   ],
   "source": [
    "print(f.read())"
   ]
  },
  {
   "cell_type": "code",
   "execution_count": 60,
   "id": "5cf8ccb9-8e12-4ac2-957d-2839872125b9",
   "metadata": {},
   "outputs": [],
   "source": [
    "## writeline\n",
    "f=open('test4.txt','w')"
   ]
  },
  {
   "cell_type": "code",
   "execution_count": 61,
   "id": "ffb60be6-4cb1-4d14-8abd-1dbcd653129e",
   "metadata": {},
   "outputs": [],
   "source": [
    "f.writelines(['jai','arpit','asif','kulbir'])"
   ]
  },
  {
   "cell_type": "code",
   "execution_count": 62,
   "id": "52a28d98-9a21-40c6-9634-4d331e4dd258",
   "metadata": {},
   "outputs": [],
   "source": [
    "f.close()"
   ]
  },
  {
   "cell_type": "code",
   "execution_count": 63,
   "id": "80e7bb15-a5a5-4213-badb-497c1929f183",
   "metadata": {},
   "outputs": [],
   "source": [
    "f=open('test4.txt','r')"
   ]
  },
  {
   "cell_type": "code",
   "execution_count": 64,
   "id": "8b23a0fd-e052-4204-96d8-fc4af1165b9f",
   "metadata": {},
   "outputs": [
    {
     "name": "stdout",
     "output_type": "stream",
     "text": [
      "jaiarpitasifkulbir\n"
     ]
    }
   ],
   "source": [
    "print(f.read())"
   ]
  },
  {
   "cell_type": "code",
   "execution_count": null,
   "id": "7a0a2cba-625a-45bc-bffe-243b34f38bb1",
   "metadata": {},
   "outputs": [],
   "source": []
  }
 ],
 "metadata": {
  "kernelspec": {
   "display_name": "Python 3 (ipykernel)",
   "language": "python",
   "name": "python3"
  },
  "language_info": {
   "codemirror_mode": {
    "name": "ipython",
    "version": 3
   },
   "file_extension": ".py",
   "mimetype": "text/x-python",
   "name": "python",
   "nbconvert_exporter": "python",
   "pygments_lexer": "ipython3",
   "version": "3.10.8"
  }
 },
 "nbformat": 4,
 "nbformat_minor": 5
}
