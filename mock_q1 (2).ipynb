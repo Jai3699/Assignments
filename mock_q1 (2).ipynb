{
 "cells": [
  {
   "cell_type": "code",
   "execution_count": 1,
   "id": "71eb8fa9-4808-4bbb-9bf9-3ee4adddf029",
   "metadata": {},
   "outputs": [
    {
     "name": "stdout",
     "output_type": "stream",
     "text": [
      "[1, 3, 12, 8, 0, 0, 0]\n"
     ]
    }
   ],
   "source": [
    "## Given an integer array nums, move all 0's to the end of it while maintaining the relative order of the \n",
    "## non-zero elements.\n",
    "\n",
    "## Note that you must do this in-place without making a copy of the array.\n",
    "\n",
    "\n",
    "def moveZeros(nums):\n",
    "    \n",
    "    pointer = 0\n",
    "    zero_pointer = 0\n",
    "\n",
    "    \n",
    "    while pointer < len(nums):\n",
    "        \n",
    "        if nums[pointer] != 0:\n",
    "            nums[pointer], nums[zero_pointer] = nums[zero_pointer], nums[pointer]\n",
    "            zero_pointer += 1\n",
    "        pointer += 1\n",
    "\n",
    "\n",
    "nums = [0, 1, 0, 3, 12, 0, 8]\n",
    "moveZeros(nums)\n",
    "print(nums)\n"
   ]
  },
  {
   "cell_type": "code",
   "execution_count": null,
   "id": "1342b44f-1507-4e70-8d9a-b4002b8756e9",
   "metadata": {},
   "outputs": [],
   "source": []
  }
 ],
 "metadata": {
  "kernelspec": {
   "display_name": "Python 3 (ipykernel)",
   "language": "python",
   "name": "python3"
  },
  "language_info": {
   "codemirror_mode": {
    "name": "ipython",
    "version": 3
   },
   "file_extension": ".py",
   "mimetype": "text/x-python",
   "name": "python",
   "nbconvert_exporter": "python",
   "pygments_lexer": "ipython3",
   "version": "3.10.8"
  }
 },
 "nbformat": 4,
 "nbformat_minor": 5
}
