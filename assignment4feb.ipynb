{
 "cells": [
  {
   "cell_type": "code",
   "execution_count": 133,
   "id": "f40bc39f-74cb-4cbd-b5cc-75889b9e8905",
   "metadata": {},
   "outputs": [],
   "source": [
    "\"\"\"Q1. Create a python program to sort the given list of tuples based on integer value using a\n",
    "lambda function.\n",
    "[('Sachin Tendulkar', 34357), ('Ricky Ponting', 27483), ('Jack Kallis', 25534), ('Virat Kohli', 24936)]\"\"\"\n",
    "\n",
    "\n",
    "\n",
    "l=[('Sachin Tendulkar', 34357), ('Ricky Ponting', 27483), ('Jack Kallis', 25534), ('Virat Kohli', 24936)]"
   ]
  },
  {
   "cell_type": "code",
   "execution_count": 134,
   "id": "5e8d4918-1a53-40a2-a92c-83129e85d37a",
   "metadata": {},
   "outputs": [],
   "source": [
    "l.sort(key=lambda x:x[1])"
   ]
  },
  {
   "cell_type": "code",
   "execution_count": 135,
   "id": "83b266ca-9bda-456a-bf7d-c55183d4e499",
   "metadata": {},
   "outputs": [
    {
     "data": {
      "text/plain": [
       "[('Virat Kohli', 24936),\n",
       " ('Jack Kallis', 25534),\n",
       " ('Ricky Ponting', 27483),\n",
       " ('Sachin Tendulkar', 34357)]"
      ]
     },
     "execution_count": 135,
     "metadata": {},
     "output_type": "execute_result"
    }
   ],
   "source": [
    "l"
   ]
  },
  {
   "cell_type": "code",
   "execution_count": 136,
   "id": "564eb256-dac3-4e5c-a12c-c8fc731b2646",
   "metadata": {},
   "outputs": [
    {
     "data": {
      "text/plain": [
       "[1, 4, 9, 16, 25, 36, 49, 64, 81, 100]"
      ]
     },
     "execution_count": 136,
     "metadata": {},
     "output_type": "execute_result"
    }
   ],
   "source": [
    "\"\"\" Q2. Write a Python Program to find the squares of all the numbers in the given list of integers using\n",
    "lambda and map functions.\n",
    "[1, 2, 3, 4, 5, 6, 7, 8, 9, 10]\"\"\"\n",
    "\n",
    "l=[1,2,3,4,5,6,7,8,9,10]\n",
    "\n",
    "list(map(lambda x:x**2,l))\n",
    "\n"
   ]
  },
  {
   "cell_type": "code",
   "execution_count": 137,
   "id": "b61d9951-7be3-4771-8518-a796d7677974",
   "metadata": {},
   "outputs": [
    {
     "data": {
      "text/plain": [
       "('1', '2', '3', '4', '5', '6', '7', '8', '9', '10')"
      ]
     },
     "execution_count": 137,
     "metadata": {},
     "output_type": "execute_result"
    }
   ],
   "source": [
    "\"\"\"Q3. Write a python program to convert the given list of integers into a tuple of strings. Use map and\n",
    "lambda functions\n",
    "Given String: [1, 2, 3, 4, 5, 6, 7, 8, 9, 10]\n",
    "Expected output: ('1', '2', '3', '4', '5', '6', '7', '8', '9', '10')\"\"\"\n",
    "\n",
    "l= [1, 2, 3, 4, 5, 6, 7, 8, 9, 10]\n",
    "\n",
    "tuple(map(lambda x:str(x),l))"
   ]
  },
  {
   "cell_type": "code",
   "execution_count": null,
   "id": "b9b4ab4a-0170-4fd1-bbc3-b2339ffa3c12",
   "metadata": {},
   "outputs": [],
   "source": []
  },
  {
   "cell_type": "code",
   "execution_count": 138,
   "id": "42e62ee1-ae89-4eb0-be9e-d0d95d1026f2",
   "metadata": {},
   "outputs": [
    {
     "data": {
      "text/plain": [
       "15511210043330985984000000"
      ]
     },
     "execution_count": 138,
     "metadata": {},
     "output_type": "execute_result"
    }
   ],
   "source": [
    "\"\"\"Q4. Write a python program using reduce function to compute the product of a list containing numbers\n",
    "from 1 to 25.\"\"\"\n",
    "\n",
    "from functools import reduce\n",
    "reduce(lambda x,y:x*y,list(range(1,26)))"
   ]
  },
  {
   "cell_type": "code",
   "execution_count": null,
   "id": "7f57df3f-2c05-4236-9829-97fad07f40c3",
   "metadata": {},
   "outputs": [],
   "source": []
  },
  {
   "cell_type": "code",
   "execution_count": 139,
   "id": "a3d341b5-5fe2-4568-a719-11d13836a4e3",
   "metadata": {},
   "outputs": [
    {
     "data": {
      "text/plain": [
       "[6, 60, 90, 120]"
      ]
     },
     "execution_count": 139,
     "metadata": {},
     "output_type": "execute_result"
    }
   ],
   "source": [
    "\"\"\"Q5. Write a python program to filter the numbers in a given list that are divisible by 2 and 3 using the\n",
    "filter function.\n",
    "[2, 3, 6, 9, 27, 60, 90, 120, 55, 46]\"\"\"\n",
    "\n",
    "l1=[2, 3, 6, 9, 27, 60, 90, 120, 55, 46]\n",
    "\n",
    "list(filter(lambda x:x%2==0 and x%3==0,l1))"
   ]
  },
  {
   "cell_type": "code",
   "execution_count": null,
   "id": "f5b7efbf-8065-4a8f-8886-bc3373fff2b5",
   "metadata": {},
   "outputs": [],
   "source": []
  },
  {
   "cell_type": "code",
   "execution_count": 140,
   "id": "d5c52320-b42e-47d9-9957-24acf9d9f9c7",
   "metadata": {},
   "outputs": [
    {
     "data": {
      "text/plain": [
       "['php', 'aba', 'radar', 'level']"
      ]
     },
     "execution_count": 140,
     "metadata": {},
     "output_type": "execute_result"
    }
   ],
   "source": [
    "\"\"\"Q6. Write a python program to find palindromes in the given list of strings using lambda and filter\n",
    "function.\n",
    "['python', 'php', 'aba', 'radar', 'level']\"\"\"\n",
    "\n",
    "l2=['python', 'php', 'aba', 'radar', 'level']\n",
    "list(filter(lambda x:x==\"\".join(reversed(x)),l2))\n",
    "\n",
    "\n"
   ]
  },
  {
   "cell_type": "code",
   "execution_count": null,
   "id": "28c95754-57f9-44f9-b125-00fa02bfcaec",
   "metadata": {},
   "outputs": [],
   "source": []
  }
 ],
 "metadata": {
  "kernelspec": {
   "display_name": "Python 3 (ipykernel)",
   "language": "python",
   "name": "python3"
  },
  "language_info": {
   "codemirror_mode": {
    "name": "ipython",
    "version": 3
   },
   "file_extension": ".py",
   "mimetype": "text/x-python",
   "name": "python",
   "nbconvert_exporter": "python",
   "pygments_lexer": "ipython3",
   "version": "3.9.7"
  }
 },
 "nbformat": 4,
 "nbformat_minor": 5
}
