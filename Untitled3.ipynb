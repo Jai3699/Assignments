{
 "cells": [
  {
   "cell_type": "code",
   "execution_count": 1,
   "id": "ea48a31e-ba32-4b09-a938-7436c1f7c92d",
   "metadata": {},
   "outputs": [],
   "source": [
    "s=\"hello how are you\""
   ]
  },
  {
   "cell_type": "code",
   "execution_count": 2,
   "id": "540a1eb6-6a53-4f1d-912c-e8c07c301dc9",
   "metadata": {},
   "outputs": [
    {
     "data": {
      "text/plain": [
       "'hello how are you'"
      ]
     },
     "execution_count": 2,
     "metadata": {},
     "output_type": "execute_result"
    }
   ],
   "source": [
    "s"
   ]
  },
  {
   "cell_type": "code",
   "execution_count": 3,
   "id": "e3c6686e-d970-4c2c-ad23-55d73c62c6f6",
   "metadata": {},
   "outputs": [
    {
     "ename": "ValueError",
     "evalue": "invalid literal for int() with base 10: 'hello how are you'",
     "output_type": "error",
     "traceback": [
      "\u001b[1;31m---------------------------------------------------------------------------\u001b[0m",
      "\u001b[1;31mValueError\u001b[0m                                Traceback (most recent call last)",
      "Input \u001b[1;32mIn [3]\u001b[0m, in \u001b[0;36m<cell line: 1>\u001b[1;34m()\u001b[0m\n\u001b[1;32m----> 1\u001b[0m x\u001b[38;5;241m=\u001b[39m\u001b[38;5;28mint\u001b[39m(s)\n",
      "\u001b[1;31mValueError\u001b[0m: invalid literal for int() with base 10: 'hello how are you'"
     ]
    }
   ],
   "source": [
    "x=int(s)"
   ]
  },
  {
   "cell_type": "code",
   "execution_count": 4,
   "id": "5fe3d403-b27e-4c71-a6d5-a3f9589b1443",
   "metadata": {},
   "outputs": [],
   "source": [
    "x=10\n"
   ]
  },
  {
   "cell_type": "code",
   "execution_count": 5,
   "id": "b55fec1b-c008-45b9-935b-0bc69bfe46db",
   "metadata": {},
   "outputs": [
    {
     "data": {
      "text/plain": [
       "int"
      ]
     },
     "execution_count": 5,
     "metadata": {},
     "output_type": "execute_result"
    }
   ],
   "source": [
    "type(x)"
   ]
  },
  {
   "cell_type": "code",
   "execution_count": 6,
   "id": "83f9c34c-e2be-4752-af09-91c466abb94d",
   "metadata": {},
   "outputs": [],
   "source": [
    "a=str(x)"
   ]
  },
  {
   "cell_type": "code",
   "execution_count": 7,
   "id": "1c1e4608-7f94-4f41-8f12-5db4a2410685",
   "metadata": {},
   "outputs": [
    {
     "data": {
      "text/plain": [
       "str"
      ]
     },
     "execution_count": 7,
     "metadata": {},
     "output_type": "execute_result"
    }
   ],
   "source": [
    "type(a)"
   ]
  },
  {
   "cell_type": "code",
   "execution_count": 8,
   "id": "01f7298a-4240-4cd1-82ba-3a00e90538f3",
   "metadata": {},
   "outputs": [
    {
     "data": {
      "text/plain": [
       "'10'"
      ]
     },
     "execution_count": 8,
     "metadata": {},
     "output_type": "execute_result"
    }
   ],
   "source": [
    "a"
   ]
  },
  {
   "cell_type": "code",
   "execution_count": 9,
   "id": "83c641ef-17ad-485d-aa66-073cd15afba6",
   "metadata": {},
   "outputs": [
    {
     "data": {
      "text/plain": [
       "'jai1'"
      ]
     },
     "execution_count": 9,
     "metadata": {},
     "output_type": "execute_result"
    }
   ],
   "source": [
    "'jai'+str(1)"
   ]
  },
  {
   "cell_type": "code",
   "execution_count": 10,
   "id": "35b93852-5ffb-4c25-ab0d-7f9d7426d690",
   "metadata": {},
   "outputs": [],
   "source": [
    "a=1\n"
   ]
  },
  {
   "cell_type": "code",
   "execution_count": 11,
   "id": "12326c53-5b03-47e4-a11b-f0ee0a3c33f9",
   "metadata": {},
   "outputs": [
    {
     "data": {
      "text/plain": [
       "'yadav1'"
      ]
     },
     "execution_count": 11,
     "metadata": {},
     "output_type": "execute_result"
    }
   ],
   "source": [
    "'yadav'+str(a)"
   ]
  },
  {
   "cell_type": "code",
   "execution_count": 22,
   "id": "76b6c4fa-1fbd-4c04-99cc-877501e4c70e",
   "metadata": {},
   "outputs": [],
   "source": [
    "l=[1,32,12,54,12,65,89,4,65]"
   ]
  },
  {
   "cell_type": "code",
   "execution_count": 23,
   "id": "56fcd99a-3301-4919-8932-64b36f7294d6",
   "metadata": {},
   "outputs": [
    {
     "data": {
      "text/plain": [
       "[1, 32, 12, 54, 12, 65, 89, 4, 65]"
      ]
     },
     "execution_count": 23,
     "metadata": {},
     "output_type": "execute_result"
    }
   ],
   "source": [
    "l"
   ]
  },
  {
   "cell_type": "code",
   "execution_count": 24,
   "id": "693ea909-098b-418b-b551-9464de6b45b1",
   "metadata": {},
   "outputs": [],
   "source": [
    "l2=[21,43,54,34,'jai',(1,2,3,89,56)]"
   ]
  },
  {
   "cell_type": "code",
   "execution_count": 25,
   "id": "9d3ab03d-50d8-4e95-8735-d35d964a5558",
   "metadata": {},
   "outputs": [
    {
     "data": {
      "text/plain": [
       "[21, 43, 54, 34, 'jai', (1, 2, 3, 89, 56)]"
      ]
     },
     "execution_count": 25,
     "metadata": {},
     "output_type": "execute_result"
    }
   ],
   "source": [
    "l2"
   ]
  },
  {
   "cell_type": "code",
   "execution_count": 26,
   "id": "16815245-ec26-4c8a-8c05-978c5bed97f8",
   "metadata": {},
   "outputs": [],
   "source": [
    "l.append(l2)"
   ]
  },
  {
   "cell_type": "code",
   "execution_count": 27,
   "id": "9c3702c1-f5ad-45c6-8c95-c7c97ca93591",
   "metadata": {},
   "outputs": [
    {
     "data": {
      "text/plain": [
       "[1, 32, 12, 54, 12, 65, 89, 4, 65, [21, 43, 54, 34, 'jai', (1, 2, 3, 89, 56)]]"
      ]
     },
     "execution_count": 27,
     "metadata": {},
     "output_type": "execute_result"
    }
   ],
   "source": [
    "l"
   ]
  },
  {
   "cell_type": "code",
   "execution_count": 29,
   "id": "50667413-452d-40d3-a22e-ea4377a68978",
   "metadata": {},
   "outputs": [],
   "source": [
    "l.extend(l2)"
   ]
  },
  {
   "cell_type": "code",
   "execution_count": 30,
   "id": "1fbf1f9f-e891-4e89-aece-19ed1245a600",
   "metadata": {},
   "outputs": [
    {
     "data": {
      "text/plain": [
       "[1,\n",
       " 32,\n",
       " 12,\n",
       " 54,\n",
       " 12,\n",
       " 65,\n",
       " 89,\n",
       " 4,\n",
       " 65,\n",
       " [21, 43, 54, 34, 'jai', (1, 2, 3, 89, 56)],\n",
       " 21,\n",
       " 43,\n",
       " 54,\n",
       " 34,\n",
       " 'jai',\n",
       " (1, 2, 3, 89, 56)]"
      ]
     },
     "execution_count": 30,
     "metadata": {},
     "output_type": "execute_result"
    }
   ],
   "source": [
    "l"
   ]
  },
  {
   "cell_type": "code",
   "execution_count": 31,
   "id": "cc1f6edf-7897-4d46-b3ab-66c98f081840",
   "metadata": {},
   "outputs": [],
   "source": [
    "str='hello how are you today'"
   ]
  },
  {
   "cell_type": "code",
   "execution_count": 34,
   "id": "2da98db2-1708-429e-b64b-74afc6de3e8a",
   "metadata": {},
   "outputs": [
    {
     "data": {
      "text/plain": [
       "10"
      ]
     },
     "execution_count": 34,
     "metadata": {},
     "output_type": "execute_result"
    }
   ],
   "source": [
    "str.find('are')"
   ]
  },
  {
   "cell_type": "code",
   "execution_count": 35,
   "id": "80db33c8-98c5-47dd-8e41-a2970e0fd18d",
   "metadata": {},
   "outputs": [
    {
     "data": {
      "text/plain": [
       "10"
      ]
     },
     "execution_count": 35,
     "metadata": {},
     "output_type": "execute_result"
    }
   ],
   "source": [
    "str.index('are')"
   ]
  },
  {
   "cell_type": "code",
   "execution_count": 36,
   "id": "e9da2533-b0a0-4230-b659-25d90aa7b355",
   "metadata": {},
   "outputs": [],
   "source": [
    "l=['jai',23,54,12,356,'yadav']"
   ]
  },
  {
   "cell_type": "code",
   "execution_count": 37,
   "id": "f0806246-557a-4df4-91fd-6d693db653af",
   "metadata": {},
   "outputs": [
    {
     "data": {
      "text/plain": [
       "['jai', 23, 54, 12, 356, 'yadav']"
      ]
     },
     "execution_count": 37,
     "metadata": {},
     "output_type": "execute_result"
    }
   ],
   "source": [
    "l"
   ]
  },
  {
   "cell_type": "code",
   "execution_count": 42,
   "id": "fa14788f-2b2c-4499-8c5a-1b79e164e39a",
   "metadata": {},
   "outputs": [
    {
     "data": {
      "text/plain": [
       "1"
      ]
     },
     "execution_count": 42,
     "metadata": {},
     "output_type": "execute_result"
    }
   ],
   "source": [
    "l.index(23)"
   ]
  },
  {
   "cell_type": "code",
   "execution_count": 43,
   "id": "be4e3c0a-df49-4668-be7a-4159cef0f25f",
   "metadata": {},
   "outputs": [
    {
     "data": {
      "text/plain": [
       "['jai', 23, 54, 12, 356, 'yadav']"
      ]
     },
     "execution_count": 43,
     "metadata": {},
     "output_type": "execute_result"
    }
   ],
   "source": [
    "l"
   ]
  },
  {
   "cell_type": "code",
   "execution_count": 44,
   "id": "b01fa31a-bfa0-444a-8c09-234c2b959684",
   "metadata": {},
   "outputs": [
    {
     "name": "stdout",
     "output_type": "stream",
     "text": [
      "jai\n",
      "23\n",
      "54\n",
      "12\n",
      "356\n",
      "yadav\n"
     ]
    }
   ],
   "source": [
    "for i in l:\n",
    "    print(i)"
   ]
  },
  {
   "cell_type": "code",
   "execution_count": 72,
   "id": "d5ba7c12-a2ff-40c3-9068-0478f275eb6e",
   "metadata": {},
   "outputs": [],
   "source": [
    "l=[1,2,3,4,5,6,7,8,9]"
   ]
  },
  {
   "cell_type": "code",
   "execution_count": 73,
   "id": "333a08dd-7b0f-4ebd-8970-2ec797df411f",
   "metadata": {},
   "outputs": [
    {
     "data": {
      "text/plain": [
       "[1, 2, 3, 4, 5, 6, 7, 8, 9]"
      ]
     },
     "execution_count": 73,
     "metadata": {},
     "output_type": "execute_result"
    }
   ],
   "source": [
    "l"
   ]
  },
  {
   "cell_type": "code",
   "execution_count": 76,
   "id": "f310bd39-50dd-4412-8354-46e832abbf7a",
   "metadata": {},
   "outputs": [],
   "source": [
    "lx=[]"
   ]
  },
  {
   "cell_type": "code",
   "execution_count": 77,
   "id": "c604370d-9c20-4d22-917c-bb35b33412d8",
   "metadata": {},
   "outputs": [],
   "source": [
    "for i in l:\n",
    "    lx.append(i+1)\n",
    "    \n",
    "    "
   ]
  },
  {
   "cell_type": "code",
   "execution_count": 79,
   "id": "a8f9f767-bade-4f6d-94a5-37c5a44c52ec",
   "metadata": {},
   "outputs": [
    {
     "data": {
      "text/plain": [
       "[1, 2, 3, 4, 5, 6, 7, 8, 9]"
      ]
     },
     "execution_count": 79,
     "metadata": {},
     "output_type": "execute_result"
    }
   ],
   "source": [
    "l"
   ]
  },
  {
   "cell_type": "code",
   "execution_count": 83,
   "id": "9eb292a9-53d2-4d66-82ae-3704471ec181",
   "metadata": {},
   "outputs": [
    {
     "data": {
      "text/plain": [
       "[9, 7, 5, 3, 1]"
      ]
     },
     "execution_count": 83,
     "metadata": {},
     "output_type": "execute_result"
    }
   ],
   "source": [
    "l[::-2]"
   ]
  },
  {
   "cell_type": "code",
   "execution_count": 84,
   "id": "20b19f02-9b63-4dd9-a503-ba0db16be0ce",
   "metadata": {},
   "outputs": [
    {
     "data": {
      "text/plain": [
       "[]"
      ]
     },
     "execution_count": 84,
     "metadata": {},
     "output_type": "execute_result"
    }
   ],
   "source": [
    "l[-2:-8:]"
   ]
  },
  {
   "cell_type": "code",
   "execution_count": 140,
   "id": "1d293cfd-bb6e-48d2-a974-b75d637f2cff",
   "metadata": {},
   "outputs": [],
   "source": [
    "dict={123:'jai','yadav':'caste'}"
   ]
  },
  {
   "cell_type": "code",
   "execution_count": 141,
   "id": "fb9c880f-1798-4e23-a1f7-ae37adffb11f",
   "metadata": {},
   "outputs": [
    {
     "data": {
      "text/plain": [
       "{123: 'jai', 'yadav': 'caste'}"
      ]
     },
     "execution_count": 141,
     "metadata": {},
     "output_type": "execute_result"
    }
   ],
   "source": [
    "dict"
   ]
  },
  {
   "cell_type": "code",
   "execution_count": 90,
   "id": "96e02a87-036d-4ab3-a3ac-8774b836c2ce",
   "metadata": {},
   "outputs": [
    {
     "data": {
      "text/plain": [
       "'jai'"
      ]
     },
     "execution_count": 90,
     "metadata": {},
     "output_type": "execute_result"
    }
   ],
   "source": [
    "dict[123]"
   ]
  },
  {
   "cell_type": "code",
   "execution_count": 91,
   "id": "1cb9e11d-2f55-4fb6-a867-d2da6c87b55f",
   "metadata": {},
   "outputs": [],
   "source": [
    "del dict[123]"
   ]
  },
  {
   "cell_type": "code",
   "execution_count": 92,
   "id": "e936ef6e-0b9d-4f0a-8701-20e3b5eb4ef1",
   "metadata": {},
   "outputs": [
    {
     "data": {
      "text/plain": [
       "{'yadav': 'caste'}"
      ]
     },
     "execution_count": 92,
     "metadata": {},
     "output_type": "execute_result"
    }
   ],
   "source": [
    "dict"
   ]
  },
  {
   "cell_type": "code",
   "execution_count": 94,
   "id": "3fe38675-2879-4bff-b549-eeff696b9336",
   "metadata": {},
   "outputs": [],
   "source": [
    "dict.update({123:'jai'})"
   ]
  },
  {
   "cell_type": "code",
   "execution_count": 100,
   "id": "4d0d15b1-ebe9-420d-9555-a25dcecd1823",
   "metadata": {},
   "outputs": [
    {
     "data": {
      "text/plain": [
       "['caste', 'jai']"
      ]
     },
     "execution_count": 100,
     "metadata": {},
     "output_type": "execute_result"
    }
   ],
   "source": [
    "list(dict.values())"
   ]
  },
  {
   "cell_type": "code",
   "execution_count": 93,
   "id": "2d34c2b9-9b74-4d65-ad07-1179a00215ca",
   "metadata": {},
   "outputs": [
    {
     "name": "stdin",
     "output_type": "stream",
     "text": [
      "Enter the marks 88\n"
     ]
    },
    {
     "name": "stdout",
     "output_type": "stream",
     "text": [
      "second\n"
     ]
    }
   ],
   "source": [
    "marks=int(input('Enter the marks'))\n",
    "\n",
    "if marks >=90:\n",
    "    print('congrats.......\\n you are first divison')\n",
    "    \n",
    "elif marks >=70 and marks <90:\n",
    "    print('second')\n",
    "\n",
    "    \n",
    "elif marks >=30 and marks <70:\n",
    "    print('third')\n",
    "\n",
    "elif marks <30:\n",
    "    print('fail')"
   ]
  },
  {
   "cell_type": "code",
   "execution_count": 1,
   "id": "58b1dc08-4046-4308-94a5-a6cc64bb0434",
   "metadata": {},
   "outputs": [],
   "source": [
    "l=[1,2,3,4,5]"
   ]
  },
  {
   "cell_type": "code",
   "execution_count": 8,
   "id": "73c7da6f-c29f-4a53-a352-f940fb05b2e4",
   "metadata": {},
   "outputs": [],
   "source": [
    "l1=[]"
   ]
  },
  {
   "cell_type": "code",
   "execution_count": 9,
   "id": "4a3526fc-0ae3-425a-8542-ae9943b9f530",
   "metadata": {},
   "outputs": [],
   "source": [
    "for i in l:\n",
    "    l1.append(i+1)\n",
    "    \n",
    "    "
   ]
  },
  {
   "cell_type": "code",
   "execution_count": 10,
   "id": "ff15fc39-9ced-48a4-b7e8-dcae43ea1657",
   "metadata": {},
   "outputs": [
    {
     "data": {
      "text/plain": [
       "[2, 3, 4, 5, 6]"
      ]
     },
     "execution_count": 10,
     "metadata": {},
     "output_type": "execute_result"
    }
   ],
   "source": [
    "l1"
   ]
  },
  {
   "cell_type": "code",
   "execution_count": 15,
   "id": "a9576e43-b8a8-4b63-a003-ade803a7c704",
   "metadata": {},
   "outputs": [],
   "source": [
    "l1=['jai','arpit','asif','kulbir']"
   ]
  },
  {
   "cell_type": "code",
   "execution_count": 16,
   "id": "50ada413-edd8-41ef-a021-3fcf648d066d",
   "metadata": {},
   "outputs": [
    {
     "data": {
      "text/plain": [
       "['jai', 'arpit', 'asif', 'kulbir']"
      ]
     },
     "execution_count": 16,
     "metadata": {},
     "output_type": "execute_result"
    }
   ],
   "source": [
    "l1"
   ]
  },
  {
   "cell_type": "code",
   "execution_count": 25,
   "id": "fb1aa90e-a200-4bb9-a42d-a120284b507d",
   "metadata": {},
   "outputs": [
    {
     "name": "stdout",
     "output_type": "stream",
     "text": [
      "jai\n",
      "arpit\n",
      "asif\n",
      "kulbir\n",
      "else will be executed only when for is completely executed,it should not be break in between\n"
     ]
    }
   ],
   "source": [
    "for i in l1:\n",
    "    print(i)\n",
    "\n",
    "else:\n",
    "    print('else will be executed only when for is completely executed,it should not be break in between')"
   ]
  },
  {
   "cell_type": "code",
   "execution_count": 19,
   "id": "1694026b-94cd-4ccf-ac43-fb49c942b005",
   "metadata": {},
   "outputs": [
    {
     "data": {
      "text/plain": [
       "['jai', 'arpit', 'asif', 'kulbir']"
      ]
     },
     "execution_count": 19,
     "metadata": {},
     "output_type": "execute_result"
    }
   ],
   "source": [
    "l1"
   ]
  },
  {
   "cell_type": "code",
   "execution_count": 26,
   "id": "17772872-8916-47cf-9952-96ac9fb479be",
   "metadata": {},
   "outputs": [
    {
     "name": "stdout",
     "output_type": "stream",
     "text": [
      "jai\n",
      "arpit\n",
      "asif\n",
      "for loop is not break in between\n"
     ]
    }
   ],
   "source": [
    "for i in l1:\n",
    "    if i=='kulbir':\n",
    "        continue\n",
    "    print(i)\n",
    "\n",
    "else:\n",
    "    print('for loop is not break in between')"
   ]
  },
  {
   "cell_type": "code",
   "execution_count": 27,
   "id": "0606a379-f859-4e43-b041-de877cdb552c",
   "metadata": {},
   "outputs": [
    {
     "data": {
      "text/plain": [
       "range(0, 5)"
      ]
     },
     "execution_count": 27,
     "metadata": {},
     "output_type": "execute_result"
    }
   ],
   "source": [
    "range(5)"
   ]
  },
  {
   "cell_type": "code",
   "execution_count": 28,
   "id": "b95a3dbf-246a-43d2-9f64-c7de4a7b56bc",
   "metadata": {},
   "outputs": [
    {
     "data": {
      "text/plain": [
       "[0, 1, 2, 3, 4]"
      ]
     },
     "execution_count": 28,
     "metadata": {},
     "output_type": "execute_result"
    }
   ],
   "source": [
    "list(range(5))"
   ]
  },
  {
   "cell_type": "code",
   "execution_count": 79,
   "id": "3c6479ea-ba14-46e3-83f8-7e230655d1a9",
   "metadata": {},
   "outputs": [
    {
     "data": {
      "text/plain": [
       "[20, 19, 18, 17, 16, 15, 14, 13, 12, 11]"
      ]
     },
     "execution_count": 79,
     "metadata": {},
     "output_type": "execute_result"
    }
   ],
   "source": [
    "list(range(20,10,-1))"
   ]
  },
  {
   "cell_type": "code",
   "execution_count": 48,
   "id": "30f39a07-7b31-43c1-b0cf-59a432546b12",
   "metadata": {},
   "outputs": [
    {
     "data": {
      "text/plain": [
       "['jai', 'arpit', 'asif', 'kulbir']"
      ]
     },
     "execution_count": 48,
     "metadata": {},
     "output_type": "execute_result"
    }
   ],
   "source": [
    "l1"
   ]
  },
  {
   "cell_type": "code",
   "execution_count": 55,
   "id": "e4ad81e3-e1ca-4ddd-9e93-850171a85f46",
   "metadata": {},
   "outputs": [
    {
     "data": {
      "text/plain": [
       "[0, 1, 2, 3]"
      ]
     },
     "execution_count": 55,
     "metadata": {},
     "output_type": "execute_result"
    }
   ],
   "source": [
    "list(range(len(l1)))"
   ]
  },
  {
   "cell_type": "code",
   "execution_count": 59,
   "id": "c7dca955-e13f-4445-9c61-4d77ceabe11d",
   "metadata": {},
   "outputs": [
    {
     "name": "stdout",
     "output_type": "stream",
     "text": [
      "jai\n",
      "arpit\n",
      "asif\n",
      "kulbir\n"
     ]
    }
   ],
   "source": [
    "for i in list(range(len(l1))):\n",
    "              print(l1[i])"
   ]
  },
  {
   "cell_type": "code",
   "execution_count": 60,
   "id": "b9173c2e-294f-492e-a600-9bb856779844",
   "metadata": {},
   "outputs": [],
   "source": [
    "x=[1,2,3,4,5,6,7,8,9]"
   ]
  },
  {
   "cell_type": "code",
   "execution_count": 62,
   "id": "c89a8ea1-252b-4406-91d8-c366c32a11c9",
   "metadata": {},
   "outputs": [],
   "source": [
    "for i in list(range(len(x))):\n",
    "    x[i]+=1"
   ]
  },
  {
   "cell_type": "code",
   "execution_count": 81,
   "id": "013934c4-39ec-4c72-937d-326a04e9b0da",
   "metadata": {},
   "outputs": [
    {
     "data": {
      "text/plain": [
       "[2, 3, 4, 5, 6, 7, 8, 9, 10]"
      ]
     },
     "execution_count": 81,
     "metadata": {},
     "output_type": "execute_result"
    }
   ],
   "source": [
    "x"
   ]
  },
  {
   "cell_type": "code",
   "execution_count": 83,
   "id": "b2544f86-ee64-4144-a0c3-2468dd65e034",
   "metadata": {},
   "outputs": [
    {
     "name": "stdout",
     "output_type": "stream",
     "text": [
      "10\n",
      "9\n",
      "8\n",
      "7\n",
      "6\n",
      "5\n",
      "4\n",
      "3\n",
      "2\n"
     ]
    }
   ],
   "source": [
    "for i in list(range(len(x)-1,-1,-1)):\n",
    "    print(x[i])"
   ]
  },
  {
   "cell_type": "code",
   "execution_count": 74,
   "id": "50f93426-5081-4214-9609-e1bccb417b8c",
   "metadata": {},
   "outputs": [
    {
     "data": {
      "text/plain": [
       "[]"
      ]
     },
     "execution_count": 74,
     "metadata": {},
     "output_type": "execute_result"
    }
   ],
   "source": [
    "list(range(len(x),0))"
   ]
  },
  {
   "cell_type": "code",
   "execution_count": 77,
   "id": "43acfc2f-cd60-4c51-b3af-16d283751352",
   "metadata": {},
   "outputs": [
    {
     "data": {
      "text/plain": [
       "[9, 8, 7, 6, 5, 4, 3, 2, 1]"
      ]
     },
     "execution_count": 77,
     "metadata": {},
     "output_type": "execute_result"
    }
   ],
   "source": [
    "list(range(9,0,-1))"
   ]
  },
  {
   "cell_type": "code",
   "execution_count": 84,
   "id": "7cb4a234-6cb6-498a-8abc-f1ea14e5c1f3",
   "metadata": {},
   "outputs": [
    {
     "data": {
      "text/plain": [
       "[2, 3, 4, 5, 6, 7, 8, 9, 10]"
      ]
     },
     "execution_count": 84,
     "metadata": {},
     "output_type": "execute_result"
    }
   ],
   "source": [
    "x"
   ]
  },
  {
   "cell_type": "code",
   "execution_count": 95,
   "id": "64a66754-351d-47b7-849c-f6a0c036eeb1",
   "metadata": {},
   "outputs": [
    {
     "name": "stdout",
     "output_type": "stream",
     "text": [
      "2\n",
      "4\n",
      "6\n",
      "8\n",
      "10\n"
     ]
    }
   ],
   "source": [
    "for i in list(range(0,len(x),1)):\n",
    "    if i%2==0:\n",
    "        print(x[i])"
   ]
  },
  {
   "cell_type": "code",
   "execution_count": 97,
   "id": "ae79fc52-7186-4788-9f2c-008936a60ef4",
   "metadata": {},
   "outputs": [
    {
     "name": "stdout",
     "output_type": "stream",
     "text": [
      "3\n",
      "5\n",
      "7\n",
      "9\n"
     ]
    }
   ],
   "source": [
    "for i in list(range(1,len(x),2)):\n",
    "    print(x[i])"
   ]
  },
  {
   "cell_type": "code",
   "execution_count": 98,
   "id": "f0ea403e-63d1-4013-957f-a4beaedf4844",
   "metadata": {},
   "outputs": [
    {
     "data": {
      "text/plain": [
       "[1, 2, 3, 4, 5]"
      ]
     },
     "execution_count": 98,
     "metadata": {},
     "output_type": "execute_result"
    }
   ],
   "source": [
    "l"
   ]
  },
  {
   "cell_type": "code",
   "execution_count": 100,
   "id": "88e09ef0-1717-4d6d-bc28-049ebcddb938",
   "metadata": {},
   "outputs": [],
   "source": [
    "x=0\n",
    "for i in list(range(0,len(l))):\n",
    "    x+=l[i]"
   ]
  },
  {
   "cell_type": "code",
   "execution_count": 101,
   "id": "85116940-bc05-4b4d-a561-56e6116950cd",
   "metadata": {},
   "outputs": [
    {
     "data": {
      "text/plain": [
       "15"
      ]
     },
     "execution_count": 101,
     "metadata": {},
     "output_type": "execute_result"
    }
   ],
   "source": [
    "x"
   ]
  },
  {
   "cell_type": "code",
   "execution_count": 102,
   "id": "9eef4f27-5311-4b28-9276-32e727479ce8",
   "metadata": {},
   "outputs": [],
   "source": [
    "sum=0\n",
    "for i in l:\n",
    "    sum+=i\n",
    "    "
   ]
  },
  {
   "cell_type": "code",
   "execution_count": 103,
   "id": "b814c91e-856f-41c1-8288-06c4c743d931",
   "metadata": {},
   "outputs": [
    {
     "data": {
      "text/plain": [
       "15"
      ]
     },
     "execution_count": 103,
     "metadata": {},
     "output_type": "execute_result"
    }
   ],
   "source": [
    "sum"
   ]
  },
  {
   "cell_type": "code",
   "execution_count": 104,
   "id": "1b7b4561-e1b0-4828-8a84-0c1a0114372b",
   "metadata": {},
   "outputs": [],
   "source": [
    "t=(1,2,3)"
   ]
  },
  {
   "cell_type": "code",
   "execution_count": 105,
   "id": "2bfc63d1-e53f-423f-87a6-bdf8becfd1f9",
   "metadata": {},
   "outputs": [
    {
     "data": {
      "text/plain": [
       "(1, 2, 3)"
      ]
     },
     "execution_count": 105,
     "metadata": {},
     "output_type": "execute_result"
    }
   ],
   "source": [
    "t\n"
   ]
  },
  {
   "cell_type": "code",
   "execution_count": 106,
   "id": "fa4bdde5-7468-4484-ba3e-8a4c00038173",
   "metadata": {},
   "outputs": [],
   "source": [
    "s={1,2,3}"
   ]
  },
  {
   "cell_type": "code",
   "execution_count": 107,
   "id": "f9ca99e5-fa3c-495d-bfbd-5cab399dae3c",
   "metadata": {},
   "outputs": [
    {
     "data": {
      "text/plain": [
       "{1, 2, 3}"
      ]
     },
     "execution_count": 107,
     "metadata": {},
     "output_type": "execute_result"
    }
   ],
   "source": [
    "s"
   ]
  },
  {
   "cell_type": "code",
   "execution_count": 110,
   "id": "6418d43d-0f78-4310-a2f5-687d5f9027a4",
   "metadata": {},
   "outputs": [],
   "source": [
    "s.add(10)"
   ]
  },
  {
   "cell_type": "code",
   "execution_count": 111,
   "id": "3fb0f475-ef70-4e6e-903c-fdb87124baa1",
   "metadata": {},
   "outputs": [
    {
     "data": {
      "text/plain": [
       "{1, 2, 3, 10}"
      ]
     },
     "execution_count": 111,
     "metadata": {},
     "output_type": "execute_result"
    }
   ],
   "source": [
    "s"
   ]
  },
  {
   "cell_type": "code",
   "execution_count": 114,
   "id": "146ed686-2af4-4669-9a48-06cdd5b896b5",
   "metadata": {},
   "outputs": [],
   "source": [
    "s.add(5)"
   ]
  },
  {
   "cell_type": "code",
   "execution_count": 115,
   "id": "22a49de0-8ad9-41f9-8113-87e38cafe0d6",
   "metadata": {},
   "outputs": [
    {
     "data": {
      "text/plain": [
       "{1, 2, 3, 5, 10}"
      ]
     },
     "execution_count": 115,
     "metadata": {},
     "output_type": "execute_result"
    }
   ],
   "source": [
    "s"
   ]
  },
  {
   "cell_type": "code",
   "execution_count": 125,
   "id": "7b92ffbc-6523-40f5-9e4d-989cba779b3b",
   "metadata": {},
   "outputs": [
    {
     "data": {
      "text/plain": [
       "4"
      ]
     },
     "execution_count": 125,
     "metadata": {},
     "output_type": "execute_result"
    }
   ],
   "source": [
    "s.pop()"
   ]
  },
  {
   "cell_type": "code",
   "execution_count": 137,
   "id": "f60f825d-2a60-4c03-af6c-42217e20d39c",
   "metadata": {},
   "outputs": [
    {
     "data": {
      "text/plain": [
       "70"
      ]
     },
     "execution_count": 137,
     "metadata": {},
     "output_type": "execute_result"
    }
   ],
   "source": [
    "s.pop()"
   ]
  },
  {
   "cell_type": "code",
   "execution_count": 138,
   "id": "13819b3c-38e1-455f-9d4d-3258cebd151a",
   "metadata": {},
   "outputs": [
    {
     "data": {
      "text/plain": [
       "{10, 80}"
      ]
     },
     "execution_count": 138,
     "metadata": {},
     "output_type": "execute_result"
    }
   ],
   "source": [
    "s"
   ]
  },
  {
   "cell_type": "code",
   "execution_count": 142,
   "id": "a69faea1-b0b0-458a-8756-29dc6525b2eb",
   "metadata": {},
   "outputs": [
    {
     "data": {
      "text/plain": [
       "{123: 'jai', 'yadav': 'caste'}"
      ]
     },
     "execution_count": 142,
     "metadata": {},
     "output_type": "execute_result"
    }
   ],
   "source": [
    "dict"
   ]
  },
  {
   "cell_type": "code",
   "execution_count": 145,
   "id": "7fd31a0e-ae30-437a-9877-deaf317afa3c",
   "metadata": {},
   "outputs": [],
   "source": [
    "del dict['yadav']"
   ]
  },
  {
   "cell_type": "code",
   "execution_count": 146,
   "id": "2e8b6492-cb52-4b8c-a816-bc03c0fb0d90",
   "metadata": {},
   "outputs": [
    {
     "data": {
      "text/plain": [
       "{123: 'jai'}"
      ]
     },
     "execution_count": 146,
     "metadata": {},
     "output_type": "execute_result"
    }
   ],
   "source": [
    "dict"
   ]
  },
  {
   "cell_type": "code",
   "execution_count": 147,
   "id": "0443c5de-e81e-4490-a1ed-6d56e1e15758",
   "metadata": {},
   "outputs": [],
   "source": [
    "dict.update({'arpit':'gouri','kulbir':'punia','asif':'khan'})"
   ]
  },
  {
   "cell_type": "code",
   "execution_count": 148,
   "id": "40f58c78-d735-4ec4-bd8f-ded6876461c3",
   "metadata": {},
   "outputs": [
    {
     "data": {
      "text/plain": [
       "{123: 'jai', 'arpit': 'gouri', 'kulbir': 'punia', 'asif': 'khan'}"
      ]
     },
     "execution_count": 148,
     "metadata": {},
     "output_type": "execute_result"
    }
   ],
   "source": [
    "dict"
   ]
  },
  {
   "cell_type": "code",
   "execution_count": 150,
   "id": "252e8355-3588-41b8-9aa8-956f846b5952",
   "metadata": {},
   "outputs": [
    {
     "data": {
      "text/plain": [
       "'jai'"
      ]
     },
     "execution_count": 150,
     "metadata": {},
     "output_type": "execute_result"
    }
   ],
   "source": [
    "dict.pop(123)"
   ]
  },
  {
   "cell_type": "code",
   "execution_count": 151,
   "id": "90698b49-ecc4-4819-80fe-d51643fb95c0",
   "metadata": {},
   "outputs": [
    {
     "data": {
      "text/plain": [
       "{'arpit': 'gouri', 'kulbir': 'punia', 'asif': 'khan'}"
      ]
     },
     "execution_count": 151,
     "metadata": {},
     "output_type": "execute_result"
    }
   ],
   "source": [
    "dict"
   ]
  },
  {
   "cell_type": "code",
   "execution_count": 152,
   "id": "6707960b-593b-418f-9fad-4b19f92e3599",
   "metadata": {},
   "outputs": [],
   "source": [
    "del dict['asif']"
   ]
  },
  {
   "cell_type": "code",
   "execution_count": 153,
   "id": "5a9fe094-e23c-4641-970a-fdc4b2b0fad9",
   "metadata": {},
   "outputs": [
    {
     "data": {
      "text/plain": [
       "{'arpit': 'gouri', 'kulbir': 'punia'}"
      ]
     },
     "execution_count": 153,
     "metadata": {},
     "output_type": "execute_result"
    }
   ],
   "source": [
    "dict"
   ]
  },
  {
   "cell_type": "code",
   "execution_count": 154,
   "id": "1044d4cf-88de-4086-8e76-d600c87feaaf",
   "metadata": {},
   "outputs": [],
   "source": [
    "s='heelo how are you'"
   ]
  },
  {
   "cell_type": "code",
   "execution_count": 157,
   "id": "12dc4911-87ec-47df-b31c-07407187d041",
   "metadata": {},
   "outputs": [
    {
     "name": "stdout",
     "output_type": "stream",
     "text": [
      "h\n",
      "e\n",
      "e\n",
      "l\n",
      "o\n",
      " \n",
      "h\n",
      "o\n",
      "w\n",
      " \n",
      "a\n",
      "r\n",
      "e\n",
      " \n",
      "y\n",
      "o\n",
      "u\n"
     ]
    }
   ],
   "source": [
    "for i in s:\n",
    "    print(i)"
   ]
  },
  {
   "cell_type": "code",
   "execution_count": 158,
   "id": "e645330b-04c5-4d89-b4be-53ec5746dd68",
   "metadata": {},
   "outputs": [
    {
     "name": "stdout",
     "output_type": "stream",
     "text": [
      "arpit\n",
      "kulbir\n"
     ]
    }
   ],
   "source": [
    "for i in dict:\n",
    "    print(i)"
   ]
  },
  {
   "cell_type": "code",
   "execution_count": 162,
   "id": "6aba2983-0152-4d9e-b7f3-3792941ca301",
   "metadata": {},
   "outputs": [
    {
     "name": "stdout",
     "output_type": "stream",
     "text": [
      "gouri\n",
      "punia\n"
     ]
    }
   ],
   "source": [
    "for i in list(dict.keys()):\n",
    "    print(dict[i])"
   ]
  },
  {
   "cell_type": "code",
   "execution_count": 161,
   "id": "2a478898-5b77-438b-bdab-241730b3612b",
   "metadata": {},
   "outputs": [
    {
     "data": {
      "text/plain": [
       "['arpit', 'kulbir']"
      ]
     },
     "execution_count": 161,
     "metadata": {},
     "output_type": "execute_result"
    }
   ],
   "source": [
    "list(dict.keys())"
   ]
  },
  {
   "cell_type": "code",
   "execution_count": 3,
   "id": "dfbdd2d2-15ab-4fc6-a959-d9c2e59fc693",
   "metadata": {},
   "outputs": [],
   "source": [
    "a=1;\n"
   ]
  },
  {
   "cell_type": "code",
   "execution_count": 4,
   "id": "39de37d6-eddc-42f3-b865-93add5699be9",
   "metadata": {},
   "outputs": [
    {
     "name": "stdout",
     "output_type": "stream",
     "text": [
      "1\n",
      "2\n",
      "3\n",
      "4\n",
      "5\n",
      "6\n",
      "7\n",
      "8\n",
      "9\n",
      "10\n"
     ]
    }
   ],
   "source": [
    "while a<=10:\n",
    "    print(a)\n",
    "    a=a+1"
   ]
  },
  {
   "cell_type": "code",
   "execution_count": 11,
   "id": "54c973cd-4e76-48b2-a65f-80fd0b395eef",
   "metadata": {},
   "outputs": [
    {
     "name": "stdin",
     "output_type": "stream",
     "text": [
      "Enter a number 5\n"
     ]
    },
    {
     "name": "stdout",
     "output_type": "stream",
     "text": [
      "120\n"
     ]
    }
   ],
   "source": [
    "x=int(input('Enter a number'))\n",
    "fact=1\n",
    "i=1\n",
    " \n",
    "while(i<=x):\n",
    "    fact=fact*i\n",
    "    i=i+1\n",
    "    \n",
    "print(fact)    "
   ]
  },
  {
   "cell_type": "code",
   "execution_count": 16,
   "id": "2912bcb6-87ce-4a76-9723-3c579d6fc5e3",
   "metadata": {},
   "outputs": [
    {
     "name": "stdin",
     "output_type": "stream",
     "text": [
      "Enter a number 100\n"
     ]
    },
    {
     "name": "stdout",
     "output_type": "stream",
     "text": [
      "93326215443944152681699238856266700490715968264381621468592963895217599993229915608941463976156518286253697920827223758251185210916864000000000000000000000000\n"
     ]
    }
   ],
   "source": [
    "num=int(input('Enter a number'))\n",
    "\n",
    "factorital=1\n",
    "\n",
    "while(num>0):\n",
    "    factorital=factorital*num\n",
    "    num -=1\n",
    "print(factorital)    "
   ]
  },
  {
   "cell_type": "code",
   "execution_count": 23,
   "id": "39c08c0d-31f0-49c9-a055-59ba337079e3",
   "metadata": {},
   "outputs": [
    {
     "name": "stdin",
     "output_type": "stream",
     "text": [
      "enter number of elements in series 10\n"
     ]
    },
    {
     "name": "stdout",
     "output_type": "stream",
     "text": [
      "0\n",
      "1\n",
      "1\n",
      "2\n",
      "3\n",
      "5\n",
      "8\n",
      "13\n",
      "21\n",
      "34\n"
     ]
    }
   ],
   "source": [
    " num=int(input('enter number of elements in series'))\n",
    "    \n",
    "a,b=0,1\n",
    "i=1\n",
    "while(i<=num):\n",
    "    print(a)\n",
    "    \n",
    "    c=a+b\n",
    "    a=b\n",
    "    b=c\n",
    "    i+=1\n",
    "    "
   ]
  },
  {
   "cell_type": "code",
   "execution_count": 24,
   "id": "5faa7aac-ff5b-4ee8-a10e-693f93443d47",
   "metadata": {},
   "outputs": [
    {
     "name": "stdin",
     "output_type": "stream",
     "text": [
      "enter number of elements in series 10\n"
     ]
    },
    {
     "name": "stdout",
     "output_type": "stream",
     "text": [
      "0\n",
      "1\n",
      "1\n",
      "2\n",
      "3\n",
      "5\n",
      "8\n",
      "13\n",
      "21\n",
      "34\n"
     ]
    }
   ],
   "source": [
    "num=int(input('enter number of elements in series'))\n",
    "    \n",
    "a,b=0,1\n",
    "for i in range(num):\n",
    "    print(a)\n",
    "    c=a+b\n",
    "    a=b\n",
    "    b=c\n",
    "    \n",
    "    "
   ]
  },
  {
   "cell_type": "code",
   "execution_count": 29,
   "id": "0b772999-2fed-4118-a43a-f40f1b884c2b",
   "metadata": {},
   "outputs": [
    {
     "name": "stdin",
     "output_type": "stream",
     "text": [
      "enter number 5\n"
     ]
    },
    {
     "name": "stdout",
     "output_type": "stream",
     "text": [
      "120\n"
     ]
    }
   ],
   "source": [
    "num=int(input('enter number'))\n",
    "fact=1\n",
    "for i in range(1,num+1,1):\n",
    "    fact=fact*i\n",
    "print(fact)    "
   ]
  },
  {
   "cell_type": "code",
   "execution_count": 31,
   "id": "78772c1b-bfb6-4326-ae68-08f81d03d02b",
   "metadata": {},
   "outputs": [
    {
     "name": "stdin",
     "output_type": "stream",
     "text": [
      "enter the name jai yadav\n"
     ]
    },
    {
     "name": "stdout",
     "output_type": "stream",
     "text": [
      "vaday iaj\n"
     ]
    }
   ],
   "source": [
    "name=input('enter the name')\n",
    "rev_name=''\n",
    "length=len(name)\n",
    "while length>0:\n",
    "    rev_name=rev_name+name[length-1]\n",
    "    length=length-1\n",
    "print(rev_name)    "
   ]
  },
  {
   "cell_type": "code",
   "execution_count": 39,
   "id": "f717cfe0-404d-4703-b074-f8b06b24b738",
   "metadata": {},
   "outputs": [
    {
     "name": "stdin",
     "output_type": "stream",
     "text": [
      "enter the number whose table to find 10\n"
     ]
    },
    {
     "name": "stdout",
     "output_type": "stream",
     "text": [
      "10 * 1 = 10\n",
      "10 * 2 = 20\n",
      "10 * 3 = 30\n",
      "10 * 4 = 40\n",
      "10 * 5 = 50\n",
      "10 * 6 = 60\n",
      "10 * 7 = 70\n",
      "10 * 8 = 80\n",
      "10 * 9 = 90\n",
      "10 * 10 = 100\n"
     ]
    }
   ],
   "source": [
    "num=int(input('enter the number whose table to find'))\n",
    "i=1\n",
    "while i<=10:\n",
    "    print(num,'*',i,'=',num*i)\n",
    "    i=i+1"
   ]
  },
  {
   "cell_type": "code",
   "execution_count": 43,
   "id": "46f8ab0d-61cb-4680-a0a0-fe51388bd665",
   "metadata": {},
   "outputs": [
    {
     "name": "stdout",
     "output_type": "stream",
     "text": [
      "1\n",
      "2\n",
      "3\n",
      "4\n",
      "5\n",
      "6\n"
     ]
    }
   ],
   "source": [
    "n=10\n",
    "i=1\n",
    "while(i<=10):\n",
    "    if(i==7):\n",
    "        break\n",
    "    print(i)  \n",
    "    i=i+1\n",
    "else:\n",
    "    print('this will be executed only if while complete its execution without breaking in between')"
   ]
  },
  {
   "cell_type": "code",
   "execution_count": 44,
   "id": "faa3c5c4-ded6-4a72-8d6e-63cf13423760",
   "metadata": {},
   "outputs": [
    {
     "name": "stdout",
     "output_type": "stream",
     "text": [
      "1\n",
      "2\n",
      "3\n",
      "4\n",
      "5\n",
      "6\n",
      "7\n",
      "8\n",
      "9\n",
      "10\n",
      "this will be executed only if while complete its execution without breaking in between\n"
     ]
    }
   ],
   "source": [
    "n=10\n",
    "i=1\n",
    "while(i<=10):\n",
    "   \n",
    "    print(i)  \n",
    "    i=i+1\n",
    "else:\n",
    "    print('this will be executed only if while complete its execution without breaking in between')"
   ]
  },
  {
   "cell_type": "markdown",
   "id": "45b8e05a-9cf2-42a8-94b0-c727f38f6e85",
   "metadata": {},
   "source": [
    "## comprehension"
   ]
  },
  {
   "cell_type": "code",
   "execution_count": 45,
   "id": "19f9883e-036f-42da-8460-6c1e8f059d3e",
   "metadata": {},
   "outputs": [],
   "source": [
    "l=[1,2,3,4,5,6,7,8,9,10,11,12,13,14,15,16,17,18]\n"
   ]
  },
  {
   "cell_type": "code",
   "execution_count": 46,
   "id": "4ea2da77-2870-471d-aaf8-b62fd4506345",
   "metadata": {},
   "outputs": [
    {
     "data": {
      "text/plain": [
       "[1, 4, 9, 16, 25, 36, 49, 64, 81, 100, 121, 144, 169, 196, 225, 256, 289, 324]"
      ]
     },
     "execution_count": 46,
     "metadata": {},
     "output_type": "execute_result"
    }
   ],
   "source": [
    "[i**2 for i in l]"
   ]
  },
  {
   "cell_type": "code",
   "execution_count": 47,
   "id": "b00a91bf-8422-4144-b802-f99a1dd6ed71",
   "metadata": {},
   "outputs": [
    {
     "data": {
      "text/plain": [
       "[2, 4, 6, 8, 10, 12, 14, 16, 18]"
      ]
     },
     "execution_count": 47,
     "metadata": {},
     "output_type": "execute_result"
    }
   ],
   "source": [
    "[i for i in l if i%2==0]"
   ]
  },
  {
   "cell_type": "code",
   "execution_count": 48,
   "id": "e070fb34-8309-455b-8d92-0960487d42b4",
   "metadata": {},
   "outputs": [],
   "source": [
    "t=(1,2,3,4,5,6,7,8,9)"
   ]
  },
  {
   "cell_type": "code",
   "execution_count": 54,
   "id": "bd84424b-48a2-4d9f-a9fd-543c5554dc99",
   "metadata": {},
   "outputs": [
    {
     "data": {
      "text/plain": [
       "[1, 2, 3, 4, 5, 6, 7, 8, 9]"
      ]
     },
     "execution_count": 54,
     "metadata": {},
     "output_type": "execute_result"
    }
   ],
   "source": [
    "list((i for i in t))"
   ]
  },
  {
   "cell_type": "code",
   "execution_count": 56,
   "id": "4dc5e388-24c8-4caf-904e-eaa4f7ceef41",
   "metadata": {},
   "outputs": [],
   "source": [
    "dict={'key1':1,'key2':2,'key3':3,'key4':4}"
   ]
  },
  {
   "cell_type": "code",
   "execution_count": 57,
   "id": "c999bc24-c9f9-49b8-ae64-e9d1df052e70",
   "metadata": {},
   "outputs": [
    {
     "data": {
      "text/plain": [
       "{'key1': 1, 'key2': 2, 'key3': 3, 'key4': 4}"
      ]
     },
     "execution_count": 57,
     "metadata": {},
     "output_type": "execute_result"
    }
   ],
   "source": [
    "dict"
   ]
  },
  {
   "cell_type": "code",
   "execution_count": 60,
   "id": "9a451acf-8f0a-4af2-b570-375f117e9370",
   "metadata": {},
   "outputs": [
    {
     "data": {
      "text/plain": [
       "{'key1': 1, 'key2': 4, 'key3': 9, 'key4': 16}"
      ]
     },
     "execution_count": 60,
     "metadata": {},
     "output_type": "execute_result"
    }
   ],
   "source": [
    "{k:v**2 for k,v in dict.items()}"
   ]
  },
  {
   "cell_type": "code",
   "execution_count": 62,
   "id": "c1fb3ef4-f2b7-40e7-a680-aeb21afa8715",
   "metadata": {},
   "outputs": [],
   "source": [
    "def fun():\n",
    "    pass\n",
    "    "
   ]
  },
  {
   "cell_type": "code",
   "execution_count": 70,
   "id": "8790d1ce-d2f1-4693-bb07-497332fe2ba6",
   "metadata": {},
   "outputs": [],
   "source": [
    "def fun():\n",
    "    \n",
    "    return 'hello'"
   ]
  },
  {
   "cell_type": "code",
   "execution_count": 75,
   "id": "710d63b4-8183-42f0-b82f-bd4f9e286fcd",
   "metadata": {},
   "outputs": [
    {
     "data": {
      "text/plain": [
       "'hello JAi'"
      ]
     },
     "execution_count": 75,
     "metadata": {},
     "output_type": "execute_result"
    }
   ],
   "source": [
    "fun()+' '+'JAi'"
   ]
  },
  {
   "cell_type": "code",
   "execution_count": 76,
   "id": "24ffb578-f659-4cc8-9c2c-01860ae3bb06",
   "metadata": {},
   "outputs": [],
   "source": [
    "def fun2():\n",
    "    return 'Jai',50,'yadav','GJU' "
   ]
  },
  {
   "cell_type": "code",
   "execution_count": 77,
   "id": "f251e35c-99d3-4ac1-ac64-d1f2d4fbe364",
   "metadata": {},
   "outputs": [
    {
     "data": {
      "text/plain": [
       "('Jai', 50, 'yadav', 'GJU')"
      ]
     },
     "execution_count": 77,
     "metadata": {},
     "output_type": "execute_result"
    }
   ],
   "source": [
    "fun2()"
   ]
  },
  {
   "cell_type": "code",
   "execution_count": 87,
   "id": "d5a9db8b-f80b-484a-8f0d-37734387980e",
   "metadata": {},
   "outputs": [],
   "source": [
    "l=[1,2,3,4,5]"
   ]
  },
  {
   "cell_type": "code",
   "execution_count": 88,
   "id": "2214a758-9ac4-442f-9088-95b98c9c26b1",
   "metadata": {},
   "outputs": [],
   "source": [
    "l2=[6,7,8,9,'jai']"
   ]
  },
  {
   "cell_type": "code",
   "execution_count": 89,
   "id": "4709a752-f288-428c-bb65-891215f94bb3",
   "metadata": {},
   "outputs": [
    {
     "data": {
      "text/plain": [
       "[1, 2, 3, 4, 5, 6, 7, 8, 9, 'jai']"
      ]
     },
     "execution_count": 89,
     "metadata": {},
     "output_type": "execute_result"
    }
   ],
   "source": [
    "l+l2"
   ]
  },
  {
   "cell_type": "code",
   "execution_count": 90,
   "id": "9375fc00-2995-4955-858c-9ffbb79966d8",
   "metadata": {},
   "outputs": [],
   "source": [
    "l.extend(l2)"
   ]
  },
  {
   "cell_type": "code",
   "execution_count": 91,
   "id": "06128f32-bf6f-4bad-afda-4b2bcf931e12",
   "metadata": {},
   "outputs": [
    {
     "data": {
      "text/plain": [
       "[1, 2, 3, 4, 5, 6, 7, 8, 9, 'jai']"
      ]
     },
     "execution_count": 91,
     "metadata": {},
     "output_type": "execute_result"
    }
   ],
   "source": [
    "l"
   ]
  },
  {
   "cell_type": "code",
   "execution_count": 109,
   "id": "ba24e003-ee0b-4f36-9758-36fa74d7a336",
   "metadata": {},
   "outputs": [],
   "source": [
    "l=[1,2,34,5,'jai','yadav',[5,6,7,43]]\n"
   ]
  },
  {
   "cell_type": "code",
   "execution_count": 126,
   "id": "c556afc1-1bff-46c1-93da-f02a87c7ee33",
   "metadata": {},
   "outputs": [],
   "source": [
    "l2=[]\n",
    "def fun(l):\n",
    "    \"\"\"enter the list as a arguement\"\"\"\n",
    "    for i in l:\n",
    "        if type(i)==list:\n",
    "            for j in i:\n",
    "                l2.append(j)\n",
    "        elif (type(i)==int or type(i)==float):\n",
    "            l2.append(i)\n",
    "    return l2       \n",
    "                "
   ]
  },
  {
   "cell_type": "code",
   "execution_count": 127,
   "id": "249f7096-f30a-4094-b1e8-4f26d4dc5601",
   "metadata": {},
   "outputs": [
    {
     "data": {
      "text/plain": [
       "[1, 2, 34, 5, 5, 6, 7, 43]"
      ]
     },
     "execution_count": 127,
     "metadata": {},
     "output_type": "execute_result"
    }
   ],
   "source": [
    "fun(l)"
   ]
  },
  {
   "cell_type": "code",
   "execution_count": 137,
   "id": "c0cd320d-0c58-4eef-877a-df3de9a16149",
   "metadata": {},
   "outputs": [],
   "source": [
    "def fun2(*args):\n",
    "    return args"
   ]
  },
  {
   "cell_type": "code",
   "execution_count": 166,
   "id": "8bf356d6-57fb-4820-8bf8-be7a97421874",
   "metadata": {},
   "outputs": [
    {
     "data": {
      "text/plain": [
       "(1, 2, 'jai')"
      ]
     },
     "execution_count": 166,
     "metadata": {},
     "output_type": "execute_result"
    }
   ],
   "source": [
    "x=[1,2,'jai']\n",
    "fun2(*x)\n"
   ]
  },
  {
   "cell_type": "code",
   "execution_count": 140,
   "id": "19f7798e-e583-4c37-a3ff-784bf28f1bd0",
   "metadata": {},
   "outputs": [],
   "source": [
    "def fun4(*args,x):\n",
    "    return args,x"
   ]
  },
  {
   "cell_type": "code",
   "execution_count": 147,
   "id": "8622ba72-a0d7-41ef-bf11-9286c04e488f",
   "metadata": {},
   "outputs": [
    {
     "data": {
      "text/plain": [
       "((1, 2, 3), 5)"
      ]
     },
     "execution_count": 147,
     "metadata": {},
     "output_type": "execute_result"
    }
   ],
   "source": [
    "fun4(1,2,3,x=5)"
   ]
  },
  {
   "cell_type": "code",
   "execution_count": 154,
   "id": "c5aa681c-3e64-4999-a836-9c9bad77ecfa",
   "metadata": {},
   "outputs": [],
   "source": [
    "def fun5(**d):\n",
    "    return d\n"
   ]
  },
  {
   "cell_type": "code",
   "execution_count": 155,
   "id": "47223637-35c9-44c1-9648-d41f72af7fd9",
   "metadata": {},
   "outputs": [
    {
     "data": {
      "text/plain": [
       "dict"
      ]
     },
     "execution_count": 155,
     "metadata": {},
     "output_type": "execute_result"
    }
   ],
   "source": [
    "type(fun5())\n"
   ]
  },
  {
   "cell_type": "code",
   "execution_count": 187,
   "id": "202811b8-3814-422c-803b-321cb572a3bd",
   "metadata": {},
   "outputs": [
    {
     "data": {
      "text/plain": [
       "{'jai': 6, 'a': 'hello', 'b': 'whats up'}"
      ]
     },
     "execution_count": 187,
     "metadata": {},
     "output_type": "execute_result"
    }
   ],
   "source": [
    "fun5(jai=6,a='hello',b='whats up')"
   ]
  },
  {
   "cell_type": "code",
   "execution_count": 182,
   "id": "6e4180ce-a4f0-416f-a80d-093b00037e4e",
   "metadata": {},
   "outputs": [],
   "source": [
    "dict={'jai':50,'x':'hello'}"
   ]
  },
  {
   "cell_type": "code",
   "execution_count": 183,
   "id": "34329e52-bc79-49b7-a85e-c20d4cf9eeb3",
   "metadata": {},
   "outputs": [
    {
     "data": {
      "text/plain": [
       "{'jai': 50, 'x': 'hello'}"
      ]
     },
     "execution_count": 183,
     "metadata": {},
     "output_type": "execute_result"
    }
   ],
   "source": [
    "dict"
   ]
  },
  {
   "cell_type": "code",
   "execution_count": 184,
   "id": "0037ddd0-a3ff-4582-b5f9-f42cfac9b805",
   "metadata": {},
   "outputs": [
    {
     "data": {
      "text/plain": [
       "{'jai': 50, 'x': 'hello'}"
      ]
     },
     "execution_count": 184,
     "metadata": {},
     "output_type": "execute_result"
    }
   ],
   "source": [
    "fun5(**dict)"
   ]
  },
  {
   "cell_type": "code",
   "execution_count": 193,
   "id": "2d822ed9-c31d-4269-aed9-e05f33094656",
   "metadata": {},
   "outputs": [],
   "source": [
    "def fun6(**dict):\n",
    "    for k,v in dict.items():\n",
    "        print('keys in entered dictionary are',' ',k)\n",
    "        "
   ]
  },
  {
   "cell_type": "code",
   "execution_count": 194,
   "id": "225d0f82-8c75-4274-921c-2237a9d6d56f",
   "metadata": {},
   "outputs": [
    {
     "name": "stdout",
     "output_type": "stream",
     "text": [
      "keys in entered dictionary are   jai\n",
      "keys in entered dictionary are   Rollnumber\n"
     ]
    }
   ],
   "source": [
    "fun6(jai='yadav',Rollnumber=50)"
   ]
  },
  {
   "cell_type": "code",
   "execution_count": 9,
   "id": "5e4041ca-1e20-4441-bf89-e4e73067fba0",
   "metadata": {},
   "outputs": [],
   "source": [
    "l=(1,2,3,4,5)"
   ]
  },
  {
   "cell_type": "code",
   "execution_count": 10,
   "id": "a6e3a216-86b1-4c35-b688-84b078689d90",
   "metadata": {},
   "outputs": [
    {
     "data": {
      "text/plain": [
       "{1, 4, 9, 16, 25}"
      ]
     },
     "execution_count": 10,
     "metadata": {},
     "output_type": "execute_result"
    }
   ],
   "source": [
    "{i**2 for i in l}"
   ]
  },
  {
   "cell_type": "code",
   "execution_count": 28,
   "id": "d56cd1a2-8bcc-451f-afb1-eb1fbb825867",
   "metadata": {},
   "outputs": [],
   "source": [
    "d={1:'jai',2:'asif',3:'kulbir'}"
   ]
  },
  {
   "cell_type": "code",
   "execution_count": 32,
   "id": "f0c6bbf7-6963-4d7d-bd36-0399b8795c56",
   "metadata": {},
   "outputs": [
    {
     "data": {
      "text/plain": [
       "{2: 'jaijai', 4: 'asifasif', 6: 'kulbirkulbir'}"
      ]
     },
     "execution_count": 32,
     "metadata": {},
     "output_type": "execute_result"
    }
   ],
   "source": [
    "{k*2:v*2 for k,v in d.items()}"
   ]
  },
  {
   "cell_type": "code",
   "execution_count": 5,
   "id": "a0564709-9def-4fd9-b3ec-8bfb0c2b9a1f",
   "metadata": {},
   "outputs": [
    {
     "name": "stdout",
     "output_type": "stream",
     "text": [
      "2\n",
      "3\n"
     ]
    }
   ],
   "source": [
    "a=1\n",
    "b=2\n",
    "a,b=b,a+b\n",
    "print(a)\n",
    "print(b)\n"
   ]
  },
  {
   "cell_type": "code",
   "execution_count": 6,
   "id": "2b67d27a-7240-46ac-b8ef-42ff526d8740",
   "metadata": {},
   "outputs": [],
   "source": [
    "def fib(n):\n",
    "    a,b=0,1\n",
    "    i=1\n",
    "    while(i<=n):\n",
    "        print(a)\n",
    "        a,b=b,a+b\n",
    "        i+=1\n",
    "    "
   ]
  },
  {
   "cell_type": "code",
   "execution_count": 7,
   "id": "94b6f636-78a3-4f85-80be-4990148be923",
   "metadata": {},
   "outputs": [
    {
     "name": "stdout",
     "output_type": "stream",
     "text": [
      "0\n",
      "1\n",
      "1\n",
      "2\n",
      "3\n",
      "5\n",
      "8\n",
      "13\n",
      "21\n",
      "34\n"
     ]
    }
   ],
   "source": [
    "fib(10)"
   ]
  },
  {
   "cell_type": "code",
   "execution_count": 8,
   "id": "e335f7e4-2601-42bb-8554-dc256f1c4848",
   "metadata": {},
   "outputs": [],
   "source": [
    "def fib(n):\n",
    "    a,b=0,1\n",
    "    i=1\n",
    "    while(i<=n):\n",
    "        print(a)\n",
    "        c=a+b\n",
    "        a=b\n",
    "        b=c\n",
    "       # a,b=b,a+b\n",
    "    \n",
    "        i+=1\n",
    "    "
   ]
  },
  {
   "cell_type": "code",
   "execution_count": 9,
   "id": "597d4f4d-5f61-4728-a6b6-80b4a4c63d7f",
   "metadata": {},
   "outputs": [
    {
     "name": "stdout",
     "output_type": "stream",
     "text": [
      "0\n",
      "1\n",
      "1\n",
      "2\n",
      "3\n",
      "5\n",
      "8\n",
      "13\n",
      "21\n",
      "34\n"
     ]
    }
   ],
   "source": [
    "fib(10)"
   ]
  },
  {
   "cell_type": "markdown",
   "id": "69101348-376d-4455-baf9-9d8739a83d10",
   "metadata": {},
   "source": [
    "## Generator Funcion"
   ]
  },
  {
   "cell_type": "code",
   "execution_count": 29,
   "id": "3558fd94-bc35-4a5c-ac59-29af02b61720",
   "metadata": {},
   "outputs": [],
   "source": [
    "def gen1():\n",
    "    a=1\n",
    "    b=2\n",
    "    c=3\n",
    "    yield a\n",
    "    yield b\n",
    "    yield c"
   ]
  },
  {
   "cell_type": "code",
   "execution_count": 33,
   "id": "5b06eabd-2570-4adc-81bd-98b2993b6b47",
   "metadata": {},
   "outputs": [],
   "source": [
    "x=gen1()"
   ]
  },
  {
   "cell_type": "code",
   "execution_count": 34,
   "id": "7743b5cf-fae0-42bd-853d-958b913a6621",
   "metadata": {},
   "outputs": [
    {
     "name": "stdout",
     "output_type": "stream",
     "text": [
      "1\n"
     ]
    }
   ],
   "source": [
    "print(next(x))"
   ]
  },
  {
   "cell_type": "code",
   "execution_count": 35,
   "id": "93d5b8e8-dc4b-4438-8709-490fa736f9c2",
   "metadata": {},
   "outputs": [
    {
     "name": "stdout",
     "output_type": "stream",
     "text": [
      "2\n"
     ]
    }
   ],
   "source": [
    "print(next(x))"
   ]
  },
  {
   "cell_type": "code",
   "execution_count": 36,
   "id": "6af2ffcf-303d-4d9d-bc22-0345522159b8",
   "metadata": {},
   "outputs": [
    {
     "name": "stdout",
     "output_type": "stream",
     "text": [
      "3\n"
     ]
    }
   ],
   "source": [
    "print(next(x))"
   ]
  },
  {
   "cell_type": "code",
   "execution_count": 37,
   "id": "bebb6319-025a-4402-9f8c-a320c1bcb432",
   "metadata": {},
   "outputs": [
    {
     "name": "stdout",
     "output_type": "stream",
     "text": [
      "1\n",
      "2\n",
      "3\n"
     ]
    }
   ],
   "source": [
    "for value in gen1():\n",
    "    print(value)"
   ]
  },
  {
   "cell_type": "markdown",
   "id": "dcb5f2a2-82ae-48cb-83f5-c7c4af154047",
   "metadata": {},
   "source": [
    "## Fibonacci series using generator function"
   ]
  },
  {
   "cell_type": "code",
   "execution_count": 38,
   "id": "e820fe08-72eb-4ab5-9791-dbcc89e83981",
   "metadata": {},
   "outputs": [],
   "source": [
    "def fib_gen(n):\n",
    "    a,b=0,1\n",
    "    for i in range(n):\n",
    "        yield a\n",
    "        a,b=b,a+b"
   ]
  },
  {
   "cell_type": "code",
   "execution_count": 40,
   "id": "123e4650-b0b2-433d-b590-b3e32b333020",
   "metadata": {},
   "outputs": [
    {
     "name": "stdin",
     "output_type": "stream",
     "text": [
      "Enter the number elements in series to print 20\n"
     ]
    },
    {
     "name": "stdout",
     "output_type": "stream",
     "text": [
      "0\n",
      "1\n",
      "1\n",
      "2\n",
      "3\n",
      "5\n",
      "8\n",
      "13\n",
      "21\n",
      "34\n",
      "55\n",
      "89\n",
      "144\n",
      "233\n",
      "377\n",
      "610\n",
      "987\n",
      "1597\n",
      "2584\n",
      "4181\n"
     ]
    }
   ],
   "source": [
    "num=int(input('Enter the number elements in series to print'))\n",
    "\n",
    "for value in fib_gen(num):\n",
    "    print(value)"
   ]
  },
  {
   "cell_type": "code",
   "execution_count": 82,
   "id": "1bab330d-deff-43c3-a761-95f18610a148",
   "metadata": {},
   "outputs": [],
   "source": [
    "s='jai yadav'"
   ]
  },
  {
   "cell_type": "code",
   "execution_count": 83,
   "id": "4136a6f1-9634-429e-9bc3-9f3bacf7225b",
   "metadata": {},
   "outputs": [],
   "source": [
    "x=iter(s)"
   ]
  },
  {
   "cell_type": "code",
   "execution_count": 85,
   "id": "f42ae425-0ae3-4505-aeb5-1469127185b5",
   "metadata": {},
   "outputs": [
    {
     "name": "stdout",
     "output_type": "stream",
     "text": [
      "j\n",
      "a\n",
      "i\n",
      " \n",
      "y\n",
      "a\n",
      "d\n",
      "a\n",
      "v\n"
     ]
    }
   ],
   "source": [
    "for value in x:\n",
    "    print(value)"
   ]
  },
  {
   "cell_type": "code",
   "execution_count": null,
   "id": "7e847b00-6e1d-4867-91cd-ad3396712fce",
   "metadata": {},
   "outputs": [],
   "source": []
  },
  {
   "cell_type": "code",
   "execution_count": null,
   "id": "0326fc7a-7c86-4ab0-b399-e11b3cde1a63",
   "metadata": {},
   "outputs": [],
   "source": []
  },
  {
   "cell_type": "code",
   "execution_count": 7,
   "id": "8786b5c5-d3a2-4d50-86b6-60796b4125fb",
   "metadata": {},
   "outputs": [],
   "source": [
    "greater=lambda x,y: x if x>y else y "
   ]
  },
  {
   "cell_type": "code",
   "execution_count": 8,
   "id": "d9f9f676-df00-41b1-82f4-47dfd1fba7e9",
   "metadata": {},
   "outputs": [
    {
     "data": {
      "text/plain": [
       "5"
      ]
     },
     "execution_count": 8,
     "metadata": {},
     "output_type": "execute_result"
    }
   ],
   "source": [
    "greater(2,5)"
   ]
  },
  {
   "cell_type": "code",
   "execution_count": 11,
   "id": "1a61f44e-d8ba-4660-9c33-35e91e4a5d5d",
   "metadata": {},
   "outputs": [],
   "source": [
    "upper=lambda s:s.upper()"
   ]
  },
  {
   "cell_type": "code",
   "execution_count": 13,
   "id": "4dc25218-ffe9-455f-bc7d-7e8857e49dc1",
   "metadata": {},
   "outputs": [
    {
     "data": {
      "text/plain": [
       "'JAI YADAV'"
      ]
     },
     "execution_count": 13,
     "metadata": {},
     "output_type": "execute_result"
    }
   ],
   "source": [
    "upper('jai yadav')"
   ]
  },
  {
   "cell_type": "code",
   "execution_count": 14,
   "id": "af99fef2-68e6-4706-a38a-79a4c706ab98",
   "metadata": {},
   "outputs": [],
   "source": [
    "square=lambda x:x**2"
   ]
  },
  {
   "cell_type": "code",
   "execution_count": 15,
   "id": "6ffb134a-b3bb-4faa-8924-3215f2b180f7",
   "metadata": {},
   "outputs": [
    {
     "data": {
      "text/plain": [
       "81"
      ]
     },
     "execution_count": 15,
     "metadata": {},
     "output_type": "execute_result"
    }
   ],
   "source": [
    "square(9)"
   ]
  },
  {
   "cell_type": "markdown",
   "id": "040fc69a-09c6-4d89-a449-c62fcfd1e67a",
   "metadata": {},
   "source": [
    "## Map function\n"
   ]
  },
  {
   "cell_type": "code",
   "execution_count": 43,
   "id": "1330c546-16f9-4cf3-bb9f-cf66c1495311",
   "metadata": {},
   "outputs": [],
   "source": [
    "def sq(n):\n",
    "    return n**2"
   ]
  },
  {
   "cell_type": "code",
   "execution_count": 44,
   "id": "5a46d719-a5f1-4d5f-b4f3-1d48fbc22380",
   "metadata": {},
   "outputs": [],
   "source": [
    "l=[1,2,3,4,5,6,7,8]"
   ]
  },
  {
   "cell_type": "code",
   "execution_count": 46,
   "id": "fbec5bb2-8a24-4b74-99f8-36da6ee81470",
   "metadata": {},
   "outputs": [
    {
     "data": {
      "text/plain": [
       "[1, 4, 9, 16, 25, 36, 49, 64]"
      ]
     },
     "execution_count": 46,
     "metadata": {},
     "output_type": "execute_result"
    }
   ],
   "source": [
    "list(map(sq,l))"
   ]
  },
  {
   "cell_type": "code",
   "execution_count": 47,
   "id": "350aede5-a4a8-46b3-bb24-29aff1128983",
   "metadata": {},
   "outputs": [],
   "source": [
    "l1=[1,2,3,4]\n",
    "l2=[5,6,7,8]"
   ]
  },
  {
   "cell_type": "code",
   "execution_count": 48,
   "id": "e3ef613c-e8ae-4782-bcb3-1b33e571606e",
   "metadata": {},
   "outputs": [],
   "source": [
    "def ad(x,y):\n",
    "    return x+y"
   ]
  },
  {
   "cell_type": "code",
   "execution_count": 49,
   "id": "75027375-e222-4370-b8be-915652d95162",
   "metadata": {},
   "outputs": [
    {
     "data": {
      "text/plain": [
       "[6, 8, 10, 12]"
      ]
     },
     "execution_count": 49,
     "metadata": {},
     "output_type": "execute_result"
    }
   ],
   "source": [
    "list(map(ad,l1,l2))"
   ]
  },
  {
   "cell_type": "code",
   "execution_count": 50,
   "id": "7648ee7a-437e-415c-babf-6926fb7987d3",
   "metadata": {},
   "outputs": [],
   "source": [
    "ad2=lambda x,y:x+y"
   ]
  },
  {
   "cell_type": "code",
   "execution_count": 51,
   "id": "a96bf984-2c62-4af2-93b0-2a455c110502",
   "metadata": {},
   "outputs": [
    {
     "data": {
      "text/plain": [
       "[6, 8, 10, 12]"
      ]
     },
     "execution_count": 51,
     "metadata": {},
     "output_type": "execute_result"
    }
   ],
   "source": [
    "list(map(ad2,l1,l2))"
   ]
  },
  {
   "cell_type": "code",
   "execution_count": 93,
   "id": "e6313f00-f14f-46ba-a5d9-949181c78120",
   "metadata": {},
   "outputs": [
    {
     "data": {
      "text/plain": [
       "[1, 4, 9, 16]"
      ]
     },
     "execution_count": 93,
     "metadata": {},
     "output_type": "execute_result"
    }
   ],
   "source": [
    "list(map(lambda x:x**2,l1))"
   ]
  },
  {
   "cell_type": "markdown",
   "id": "7d54edba-7757-4790-aee1-f2ea28ae5ada",
   "metadata": {},
   "source": [
    "## Reduce function--->it will always takes two input as parameter"
   ]
  },
  {
   "cell_type": "code",
   "execution_count": 95,
   "id": "b40849c3-7b28-41b1-9ce6-a83d12b0db74",
   "metadata": {},
   "outputs": [],
   "source": [
    "from functools import reduce"
   ]
  },
  {
   "cell_type": "code",
   "execution_count": 96,
   "id": "70c07a62-06b7-4e69-a721-f428cf338cb5",
   "metadata": {},
   "outputs": [],
   "source": [
    "l3=[1,2,3,4,5,6,7,8]"
   ]
  },
  {
   "cell_type": "code",
   "execution_count": 102,
   "id": "6d91b96e-edf6-46ce-86df-369aaf4af584",
   "metadata": {},
   "outputs": [
    {
     "data": {
      "text/plain": [
       "36"
      ]
     },
     "execution_count": 102,
     "metadata": {},
     "output_type": "execute_result"
    }
   ],
   "source": [
    "reduce(lambda x,y:x+y,l3)"
   ]
  },
  {
   "cell_type": "code",
   "execution_count": 103,
   "id": "35084f4c-58f2-4df5-bd7c-86028f897484",
   "metadata": {},
   "outputs": [],
   "source": [
    "l4=[2,2,3]"
   ]
  },
  {
   "cell_type": "code",
   "execution_count": 104,
   "id": "7a4a533d-04f1-4f2f-850a-3a1d8a25fa1e",
   "metadata": {},
   "outputs": [
    {
     "data": {
      "text/plain": [
       "64"
      ]
     },
     "execution_count": 104,
     "metadata": {},
     "output_type": "execute_result"
    }
   ],
   "source": [
    "reduce(lambda x,y:x**y,l4)"
   ]
  },
  {
   "cell_type": "code",
   "execution_count": 105,
   "id": "3c6cda16-b8a5-4fce-b660-f43f2a0588d2",
   "metadata": {},
   "outputs": [],
   "source": [
    "# finding greater in the list\n",
    "l5=[456,34,3525,234,65,234,6463,2342,3453,3423,53523,5464]"
   ]
  },
  {
   "cell_type": "code",
   "execution_count": 106,
   "id": "f4f4076c-5bf3-459c-b2ac-8c1f0e968b92",
   "metadata": {},
   "outputs": [
    {
     "data": {
      "text/plain": [
       "53523"
      ]
     },
     "execution_count": 106,
     "metadata": {},
     "output_type": "execute_result"
    }
   ],
   "source": [
    "reduce(lambda x,y:x if x>y else y,l5)"
   ]
  },
  {
   "cell_type": "markdown",
   "id": "89db4531-692d-413e-a9ab-925ec6f97c79",
   "metadata": {},
   "source": [
    "## Filter function"
   ]
  },
  {
   "cell_type": "code",
   "execution_count": 111,
   "id": "fdefe2d2-b3e4-455d-a95d-2b8a632416e0",
   "metadata": {},
   "outputs": [
    {
     "data": {
      "text/plain": [
       "[2, 4, 6, 8, 90, 12, 34]"
      ]
     },
     "execution_count": 111,
     "metadata": {},
     "output_type": "execute_result"
    }
   ],
   "source": [
    "l=[2,4,5,6,8,90,12,34,45]\n",
    "list(filter(lambda x:x%2==0,l))"
   ]
  },
  {
   "cell_type": "code",
   "execution_count": 113,
   "id": "076a02ce-a9db-4b73-8611-f79bbf50c7dc",
   "metadata": {},
   "outputs": [
    {
     "data": {
      "text/plain": [
       "[2, 4, 6, 8, 90, 12, 34]"
      ]
     },
     "execution_count": 113,
     "metadata": {},
     "output_type": "execute_result"
    }
   ],
   "source": [
    "## same using comprehension \n",
    "[i for i in l if i%2==0]"
   ]
  },
  {
   "cell_type": "code",
   "execution_count": 117,
   "id": "5ef94295-b94a-48fb-866b-9531f06239b1",
   "metadata": {},
   "outputs": [
    {
     "data": {
      "text/plain": [
       "[-2, -3, -4, -56, -34]"
      ]
     },
     "execution_count": 117,
     "metadata": {},
     "output_type": "execute_result"
    }
   ],
   "source": [
    "l2=[-2,-3,-4,-56,-34,1,2,3,4]\n",
    "list(filter(lambda x:x<0,l2))"
   ]
  },
  {
   "cell_type": "code",
   "execution_count": 122,
   "id": "7b789199-0a1b-486e-b606-339d8b60d1e5",
   "metadata": {},
   "outputs": [
    {
     "data": {
      "text/plain": [
       "['jai yadav', 'asif khan']"
      ]
     },
     "execution_count": 122,
     "metadata": {},
     "output_type": "execute_result"
    }
   ],
   "source": [
    "l3=['jai yadav','asif khan','arpit gouri','kulbir punia','ankit dhull']\n",
    "list(filter(lambda x:len(x)<=10,l3))"
   ]
  },
  {
   "cell_type": "code",
   "execution_count": null,
   "id": "56a41247-494e-49b0-8e29-23f905bf4eb6",
   "metadata": {},
   "outputs": [],
   "source": []
  }
 ],
 "metadata": {
  "kernelspec": {
   "display_name": "Python 3 (ipykernel)",
   "language": "python",
   "name": "python3"
  },
  "language_info": {
   "codemirror_mode": {
    "name": "ipython",
    "version": 3
   },
   "file_extension": ".py",
   "mimetype": "text/x-python",
   "name": "python",
   "nbconvert_exporter": "python",
   "pygments_lexer": "ipython3",
   "version": "3.9.7"
  }
 },
 "nbformat": 4,
 "nbformat_minor": 5
}
